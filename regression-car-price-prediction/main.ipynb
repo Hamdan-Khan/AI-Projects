{
 "cells": [
  {
   "cell_type": "code",
   "execution_count": 1,
   "id": "40fcafff",
   "metadata": {
    "_cell_guid": "b1076dfc-b9ad-4769-8c92-a6c4dae69d19",
    "_uuid": "8f2839f25d086af736a60e9eeb907d3b93b6e0e5",
    "execution": {
     "iopub.execute_input": "2024-12-30T22:51:21.599175Z",
     "iopub.status.busy": "2024-12-30T22:51:21.598740Z",
     "iopub.status.idle": "2024-12-30T22:51:22.013110Z",
     "shell.execute_reply": "2024-12-30T22:51:22.012136Z"
    },
    "papermill": {
     "duration": 0.423138,
     "end_time": "2024-12-30T22:51:22.014932",
     "exception": false,
     "start_time": "2024-12-30T22:51:21.591794",
     "status": "completed"
    },
    "tags": []
   },
   "outputs": [
    {
     "name": "stdout",
     "output_type": "stream",
     "text": [
      "/kaggle/input/used-car-dataset-ford-and-mercedes/cclass.csv\n",
      "/kaggle/input/used-car-dataset-ford-and-mercedes/unclean cclass.csv\n",
      "/kaggle/input/used-car-dataset-ford-and-mercedes/focus.csv\n",
      "/kaggle/input/used-car-dataset-ford-and-mercedes/audi.csv\n",
      "/kaggle/input/used-car-dataset-ford-and-mercedes/toyota.csv\n",
      "/kaggle/input/used-car-dataset-ford-and-mercedes/skoda.csv\n",
      "/kaggle/input/used-car-dataset-ford-and-mercedes/ford.csv\n",
      "/kaggle/input/used-car-dataset-ford-and-mercedes/vauxhall.csv\n",
      "/kaggle/input/used-car-dataset-ford-and-mercedes/bmw.csv\n",
      "/kaggle/input/used-car-dataset-ford-and-mercedes/vw.csv\n",
      "/kaggle/input/used-car-dataset-ford-and-mercedes/hyundi.csv\n",
      "/kaggle/input/used-car-dataset-ford-and-mercedes/unclean focus.csv\n",
      "/kaggle/input/used-car-dataset-ford-and-mercedes/merc.csv\n"
     ]
    }
   ],
   "source": [
    "# This Python 3 environment comes with many helpful analytics libraries installed\n",
    "# It is defined by the kaggle/python Docker image: https://github.com/kaggle/docker-python\n",
    "# For example, here's several helpful packages to load\n",
    "\n",
    "import numpy as np # linear algebra\n",
    "import pandas as pd # data processing, CSV file I/O (e.g. pd.read_csv)\n",
    "\n",
    "# Input data files are available in the read-only \"../input/\" directory\n",
    "# For example, running this (by clicking run or pressing Shift+Enter) will list all files under the input directory\n",
    "\n",
    "import os\n",
    "for dirname, _, filenames in os.walk('/kaggle/input'):\n",
    "    for filename in filenames:\n",
    "        print(os.path.join(dirname, filename))\n",
    "\n",
    "# You can write up to 20GB to the current directory (/kaggle/working/) that gets preserved as output when you create a version using \"Save & Run All\" \n",
    "# You can also write temporary files to /kaggle/temp/, but they won't be saved outside of the current session"
   ]
  },
  {
   "cell_type": "code",
   "execution_count": 2,
   "id": "48438cc1",
   "metadata": {
    "execution": {
     "iopub.execute_input": "2024-12-30T22:51:22.026835Z",
     "iopub.status.busy": "2024-12-30T22:51:22.026385Z",
     "iopub.status.idle": "2024-12-30T22:51:22.082053Z",
     "shell.execute_reply": "2024-12-30T22:51:22.080983Z"
    },
    "papermill": {
     "duration": 0.063252,
     "end_time": "2024-12-30T22:51:22.083620",
     "exception": false,
     "start_time": "2024-12-30T22:51:22.020368",
     "status": "completed"
    },
    "tags": []
   },
   "outputs": [
    {
     "data": {
      "text/html": [
       "<div>\n",
       "<style scoped>\n",
       "    .dataframe tbody tr th:only-of-type {\n",
       "        vertical-align: middle;\n",
       "    }\n",
       "\n",
       "    .dataframe tbody tr th {\n",
       "        vertical-align: top;\n",
       "    }\n",
       "\n",
       "    .dataframe thead th {\n",
       "        text-align: right;\n",
       "    }\n",
       "</style>\n",
       "<table border=\"1\" class=\"dataframe\">\n",
       "  <thead>\n",
       "    <tr style=\"text-align: right;\">\n",
       "      <th></th>\n",
       "      <th>model</th>\n",
       "      <th>year</th>\n",
       "      <th>price</th>\n",
       "      <th>transmission</th>\n",
       "      <th>mileage</th>\n",
       "      <th>fuel type</th>\n",
       "      <th>engine size</th>\n",
       "      <th>mileage2</th>\n",
       "      <th>fuel type2</th>\n",
       "      <th>engine size2</th>\n",
       "      <th>reference</th>\n",
       "    </tr>\n",
       "  </thead>\n",
       "  <tbody>\n",
       "    <tr>\n",
       "      <th>0</th>\n",
       "      <td>C Class</td>\n",
       "      <td>2020.0</td>\n",
       "      <td>£30,495</td>\n",
       "      <td>Automatic</td>\n",
       "      <td>NaN</td>\n",
       "      <td>Diesel</td>\n",
       "      <td>2</td>\n",
       "      <td>1,200</td>\n",
       "      <td>NaN</td>\n",
       "      <td>NaN</td>\n",
       "      <td>/ad/25017331</td>\n",
       "    </tr>\n",
       "    <tr>\n",
       "      <th>1</th>\n",
       "      <td>C Class</td>\n",
       "      <td>2020.0</td>\n",
       "      <td>£29,989</td>\n",
       "      <td>Automatic</td>\n",
       "      <td>NaN</td>\n",
       "      <td>Petrol</td>\n",
       "      <td>1.5</td>\n",
       "      <td>1,000</td>\n",
       "      <td>NaN</td>\n",
       "      <td>NaN</td>\n",
       "      <td>/ad/25043746</td>\n",
       "    </tr>\n",
       "    <tr>\n",
       "      <th>2</th>\n",
       "      <td>C Class</td>\n",
       "      <td>2020.0</td>\n",
       "      <td>£37,899</td>\n",
       "      <td>Automatic</td>\n",
       "      <td>NaN</td>\n",
       "      <td>Diesel</td>\n",
       "      <td>2</td>\n",
       "      <td>500</td>\n",
       "      <td>NaN</td>\n",
       "      <td>NaN</td>\n",
       "      <td>/ad/25142894</td>\n",
       "    </tr>\n",
       "    <tr>\n",
       "      <th>3</th>\n",
       "      <td>C Class</td>\n",
       "      <td>2019.0</td>\n",
       "      <td>£30,399</td>\n",
       "      <td>Automatic</td>\n",
       "      <td>NaN</td>\n",
       "      <td>Diesel</td>\n",
       "      <td>2</td>\n",
       "      <td>5,000</td>\n",
       "      <td>NaN</td>\n",
       "      <td>NaN</td>\n",
       "      <td>/ad/24942816</td>\n",
       "    </tr>\n",
       "    <tr>\n",
       "      <th>4</th>\n",
       "      <td>C Class</td>\n",
       "      <td>2019.0</td>\n",
       "      <td>£29,899</td>\n",
       "      <td>Automatic</td>\n",
       "      <td>NaN</td>\n",
       "      <td>Diesel</td>\n",
       "      <td>2</td>\n",
       "      <td>4,500</td>\n",
       "      <td>NaN</td>\n",
       "      <td>NaN</td>\n",
       "      <td>/ad/24913660</td>\n",
       "    </tr>\n",
       "    <tr>\n",
       "      <th>...</th>\n",
       "      <td>...</td>\n",
       "      <td>...</td>\n",
       "      <td>...</td>\n",
       "      <td>...</td>\n",
       "      <td>...</td>\n",
       "      <td>...</td>\n",
       "      <td>...</td>\n",
       "      <td>...</td>\n",
       "      <td>...</td>\n",
       "      <td>...</td>\n",
       "      <td>...</td>\n",
       "    </tr>\n",
       "    <tr>\n",
       "      <th>4001</th>\n",
       "      <td>C Class</td>\n",
       "      <td>2017.0</td>\n",
       "      <td>£14,700</td>\n",
       "      <td>Manual</td>\n",
       "      <td>31,357</td>\n",
       "      <td>25</td>\n",
       "      <td>£150</td>\n",
       "      <td>70.6</td>\n",
       "      <td>Diesel</td>\n",
       "      <td>1.598</td>\n",
       "      <td>/ad/25451436</td>\n",
       "    </tr>\n",
       "    <tr>\n",
       "      <th>4002</th>\n",
       "      <td>C Class</td>\n",
       "      <td>2018.0</td>\n",
       "      <td>£18,500</td>\n",
       "      <td>Automatic</td>\n",
       "      <td>28,248</td>\n",
       "      <td>31</td>\n",
       "      <td>£150</td>\n",
       "      <td>64.2</td>\n",
       "      <td>Diesel</td>\n",
       "      <td>2.143</td>\n",
       "      <td>/ad/25451481</td>\n",
       "    </tr>\n",
       "    <tr>\n",
       "      <th>4003</th>\n",
       "      <td>C Class</td>\n",
       "      <td>2014.0</td>\n",
       "      <td>£11,900</td>\n",
       "      <td>Manual</td>\n",
       "      <td>48,055</td>\n",
       "      <td>31</td>\n",
       "      <td>£20</td>\n",
       "      <td>65.7</td>\n",
       "      <td>Diesel</td>\n",
       "      <td>2.143</td>\n",
       "      <td>/ad/25057204</td>\n",
       "    </tr>\n",
       "    <tr>\n",
       "      <th>4004</th>\n",
       "      <td>C Class</td>\n",
       "      <td>2014.0</td>\n",
       "      <td>£11,300</td>\n",
       "      <td>Automatic</td>\n",
       "      <td>49,865</td>\n",
       "      <td>46</td>\n",
       "      <td>£145</td>\n",
       "      <td>56.5</td>\n",
       "      <td>Diesel</td>\n",
       "      <td>2.143</td>\n",
       "      <td>/ad/25144481</td>\n",
       "    </tr>\n",
       "    <tr>\n",
       "      <th>4005</th>\n",
       "      <td>C Class</td>\n",
       "      <td>2014.0</td>\n",
       "      <td>£14,800</td>\n",
       "      <td>Automatic</td>\n",
       "      <td>55,445</td>\n",
       "      <td>37</td>\n",
       "      <td>£30</td>\n",
       "      <td>64.2</td>\n",
       "      <td>Diesel</td>\n",
       "      <td>2.143</td>\n",
       "      <td>/ad/25154247</td>\n",
       "    </tr>\n",
       "  </tbody>\n",
       "</table>\n",
       "<p>4006 rows × 11 columns</p>\n",
       "</div>"
      ],
      "text/plain": [
       "         model    year     price transmission mileage fuel type engine size  \\\n",
       "0      C Class  2020.0   £30,495    Automatic     NaN    Diesel           2   \n",
       "1      C Class  2020.0   £29,989    Automatic     NaN    Petrol         1.5   \n",
       "2      C Class  2020.0   £37,899    Automatic     NaN    Diesel           2   \n",
       "3      C Class  2019.0   £30,399    Automatic     NaN    Diesel           2   \n",
       "4      C Class  2019.0   £29,899    Automatic     NaN    Diesel           2   \n",
       "...        ...     ...       ...          ...     ...       ...         ...   \n",
       "4001   C Class  2017.0   £14,700       Manual  31,357        25        £150   \n",
       "4002   C Class  2018.0   £18,500    Automatic  28,248        31        £150   \n",
       "4003   C Class  2014.0   £11,900       Manual  48,055        31         £20   \n",
       "4004   C Class  2014.0   £11,300    Automatic  49,865        46        £145   \n",
       "4005   C Class  2014.0   £14,800    Automatic  55,445        37         £30   \n",
       "\n",
       "     mileage2 fuel type2 engine size2     reference  \n",
       "0       1,200        NaN          NaN  /ad/25017331  \n",
       "1       1,000        NaN          NaN  /ad/25043746  \n",
       "2         500        NaN          NaN  /ad/25142894  \n",
       "3       5,000        NaN          NaN  /ad/24942816  \n",
       "4       4,500        NaN          NaN  /ad/24913660  \n",
       "...       ...        ...          ...           ...  \n",
       "4001     70.6     Diesel        1.598  /ad/25451436  \n",
       "4002     64.2     Diesel        2.143  /ad/25451481  \n",
       "4003     65.7     Diesel        2.143  /ad/25057204  \n",
       "4004     56.5     Diesel        2.143  /ad/25144481  \n",
       "4005     64.2     Diesel        2.143  /ad/25154247  \n",
       "\n",
       "[4006 rows x 11 columns]"
      ]
     },
     "execution_count": 2,
     "metadata": {},
     "output_type": "execute_result"
    }
   ],
   "source": [
    "data = pd.read_csv('/kaggle/input/used-car-dataset-ford-and-mercedes/unclean cclass.csv')\n",
    "data"
   ]
  },
  {
   "cell_type": "code",
   "execution_count": 3,
   "id": "2d1cc791",
   "metadata": {
    "execution": {
     "iopub.execute_input": "2024-12-30T22:51:22.095502Z",
     "iopub.status.busy": "2024-12-30T22:51:22.095088Z",
     "iopub.status.idle": "2024-12-30T22:51:22.121462Z",
     "shell.execute_reply": "2024-12-30T22:51:22.120269Z"
    },
    "papermill": {
     "duration": 0.034095,
     "end_time": "2024-12-30T22:51:22.123050",
     "exception": false,
     "start_time": "2024-12-30T22:51:22.088955",
     "status": "completed"
    },
    "tags": []
   },
   "outputs": [
    {
     "name": "stdout",
     "output_type": "stream",
     "text": [
      "<class 'pandas.core.frame.DataFrame'>\n",
      "RangeIndex: 4006 entries, 0 to 4005\n",
      "Data columns (total 11 columns):\n",
      " #   Column        Non-Null Count  Dtype  \n",
      "---  ------        --------------  -----  \n",
      " 0   model         3907 non-null   object \n",
      " 1   year          3904 non-null   float64\n",
      " 2   price         3907 non-null   object \n",
      " 3   transmission  3907 non-null   object \n",
      " 4   mileage       3808 non-null   object \n",
      " 5   fuel type     1329 non-null   object \n",
      " 6   engine size   3842 non-null   object \n",
      " 7   mileage2      3890 non-null   object \n",
      " 8   fuel type2    3808 non-null   object \n",
      " 9   engine size2  3808 non-null   object \n",
      " 10  reference     3907 non-null   object \n",
      "dtypes: float64(1), object(10)\n",
      "memory usage: 344.4+ KB\n"
     ]
    }
   ],
   "source": [
    "data.info()"
   ]
  },
  {
   "cell_type": "code",
   "execution_count": 4,
   "id": "4d4a54df",
   "metadata": {
    "execution": {
     "iopub.execute_input": "2024-12-30T22:51:22.134988Z",
     "iopub.status.busy": "2024-12-30T22:51:22.134660Z",
     "iopub.status.idle": "2024-12-30T22:51:22.149478Z",
     "shell.execute_reply": "2024-12-30T22:51:22.148293Z"
    },
    "papermill": {
     "duration": 0.022739,
     "end_time": "2024-12-30T22:51:22.151311",
     "exception": false,
     "start_time": "2024-12-30T22:51:22.128572",
     "status": "completed"
    },
    "tags": []
   },
   "outputs": [
    {
     "name": "stdout",
     "output_type": "stream",
     "text": [
      "<class 'pandas.core.frame.DataFrame'>\n",
      "RangeIndex: 4006 entries, 0 to 4005\n",
      "Data columns (total 10 columns):\n",
      " #   Column        Non-Null Count  Dtype  \n",
      "---  ------        --------------  -----  \n",
      " 0   model         3907 non-null   object \n",
      " 1   year          3904 non-null   float64\n",
      " 2   price         3907 non-null   object \n",
      " 3   transmission  3907 non-null   object \n",
      " 4   mileage       3808 non-null   object \n",
      " 5   fuel type     1329 non-null   object \n",
      " 6   engine size   3842 non-null   object \n",
      " 7   mileage2      3890 non-null   object \n",
      " 8   fuel type2    3808 non-null   object \n",
      " 9   engine size2  3808 non-null   object \n",
      "dtypes: float64(1), object(9)\n",
      "memory usage: 313.1+ KB\n",
      "None\n"
     ]
    }
   ],
   "source": [
    "data = data.drop([\"reference\"], axis=1)\n",
    "print(data.info())"
   ]
  },
  {
   "cell_type": "code",
   "execution_count": 5,
   "id": "a5602432",
   "metadata": {
    "execution": {
     "iopub.execute_input": "2024-12-30T22:51:22.163672Z",
     "iopub.status.busy": "2024-12-30T22:51:22.163304Z",
     "iopub.status.idle": "2024-12-30T22:51:22.171466Z",
     "shell.execute_reply": "2024-12-30T22:51:22.170421Z"
    },
    "papermill": {
     "duration": 0.016099,
     "end_time": "2024-12-30T22:51:22.173209",
     "exception": false,
     "start_time": "2024-12-30T22:51:22.157110",
     "status": "completed"
    },
    "tags": []
   },
   "outputs": [],
   "source": [
    "data.dropna(subset=['mileage'],inplace=True)"
   ]
  },
  {
   "cell_type": "code",
   "execution_count": 6,
   "id": "08cc63f6",
   "metadata": {
    "execution": {
     "iopub.execute_input": "2024-12-30T22:51:22.185419Z",
     "iopub.status.busy": "2024-12-30T22:51:22.185038Z",
     "iopub.status.idle": "2024-12-30T22:51:22.197675Z",
     "shell.execute_reply": "2024-12-30T22:51:22.196629Z"
    },
    "papermill": {
     "duration": 0.02073,
     "end_time": "2024-12-30T22:51:22.199405",
     "exception": false,
     "start_time": "2024-12-30T22:51:22.178675",
     "status": "completed"
    },
    "tags": []
   },
   "outputs": [
    {
     "name": "stdout",
     "output_type": "stream",
     "text": [
      "<class 'pandas.core.frame.DataFrame'>\n",
      "Index: 3808 entries, 10 to 4005\n",
      "Data columns (total 10 columns):\n",
      " #   Column        Non-Null Count  Dtype  \n",
      "---  ------        --------------  -----  \n",
      " 0   model         3808 non-null   object \n",
      " 1   year          3807 non-null   float64\n",
      " 2   price         3808 non-null   object \n",
      " 3   transmission  3808 non-null   object \n",
      " 4   mileage       3808 non-null   object \n",
      " 5   fuel type     1230 non-null   object \n",
      " 6   engine size   3743 non-null   object \n",
      " 7   mileage2      3791 non-null   object \n",
      " 8   fuel type2    3808 non-null   object \n",
      " 9   engine size2  3808 non-null   object \n",
      "dtypes: float64(1), object(9)\n",
      "memory usage: 327.2+ KB\n"
     ]
    }
   ],
   "source": [
    "data.info()"
   ]
  },
  {
   "cell_type": "code",
   "execution_count": 7,
   "id": "6b85e10c",
   "metadata": {
    "execution": {
     "iopub.execute_input": "2024-12-30T22:51:22.212652Z",
     "iopub.status.busy": "2024-12-30T22:51:22.212226Z",
     "iopub.status.idle": "2024-12-30T22:51:22.230823Z",
     "shell.execute_reply": "2024-12-30T22:51:22.229941Z"
    },
    "papermill": {
     "duration": 0.027287,
     "end_time": "2024-12-30T22:51:22.232779",
     "exception": false,
     "start_time": "2024-12-30T22:51:22.205492",
     "status": "completed"
    },
    "tags": []
   },
   "outputs": [],
   "source": [
    "data.rename(columns={'engine size':'road_tax'},inplace=True)\n",
    "data[\"road_tax\"].fillna(data[\"road_tax\"].mode(), inplace=True)\n",
    "data[\"road_tax\"] = data[\"road_tax\"].replace({'£':''}, regex=True).astype(\"float\")\n",
    "data[\"road_tax\"].fillna(data[\"road_tax\"].median(),inplace=True)"
   ]
  },
  {
   "cell_type": "code",
   "execution_count": 8,
   "id": "49cda469",
   "metadata": {
    "execution": {
     "iopub.execute_input": "2024-12-30T22:51:22.245313Z",
     "iopub.status.busy": "2024-12-30T22:51:22.244923Z",
     "iopub.status.idle": "2024-12-30T22:51:22.258786Z",
     "shell.execute_reply": "2024-12-30T22:51:22.257590Z"
    },
    "papermill": {
     "duration": 0.022256,
     "end_time": "2024-12-30T22:51:22.260610",
     "exception": false,
     "start_time": "2024-12-30T22:51:22.238354",
     "status": "completed"
    },
    "tags": []
   },
   "outputs": [
    {
     "name": "stdout",
     "output_type": "stream",
     "text": [
      "<class 'pandas.core.frame.DataFrame'>\n",
      "Index: 3808 entries, 10 to 4005\n",
      "Data columns (total 10 columns):\n",
      " #   Column        Non-Null Count  Dtype  \n",
      "---  ------        --------------  -----  \n",
      " 0   model         3808 non-null   object \n",
      " 1   year          3807 non-null   float64\n",
      " 2   price         3808 non-null   object \n",
      " 3   transmission  3808 non-null   object \n",
      " 4   mileage       3808 non-null   object \n",
      " 5   fuel type     1230 non-null   object \n",
      " 6   road_tax      3808 non-null   float64\n",
      " 7   mileage2      3791 non-null   object \n",
      " 8   fuel type2    3808 non-null   object \n",
      " 9   engine size2  3808 non-null   object \n",
      "dtypes: float64(2), object(8)\n",
      "memory usage: 327.2+ KB\n"
     ]
    }
   ],
   "source": [
    "data.info()"
   ]
  },
  {
   "cell_type": "code",
   "execution_count": 9,
   "id": "db33fded",
   "metadata": {
    "execution": {
     "iopub.execute_input": "2024-12-30T22:51:22.273332Z",
     "iopub.status.busy": "2024-12-30T22:51:22.272933Z",
     "iopub.status.idle": "2024-12-30T22:51:22.290665Z",
     "shell.execute_reply": "2024-12-30T22:51:22.289557Z"
    },
    "papermill": {
     "duration": 0.025845,
     "end_time": "2024-12-30T22:51:22.292279",
     "exception": false,
     "start_time": "2024-12-30T22:51:22.266434",
     "status": "completed"
    },
    "tags": []
   },
   "outputs": [
    {
     "data": {
      "text/html": [
       "<div>\n",
       "<style scoped>\n",
       "    .dataframe tbody tr th:only-of-type {\n",
       "        vertical-align: middle;\n",
       "    }\n",
       "\n",
       "    .dataframe tbody tr th {\n",
       "        vertical-align: top;\n",
       "    }\n",
       "\n",
       "    .dataframe thead th {\n",
       "        text-align: right;\n",
       "    }\n",
       "</style>\n",
       "<table border=\"1\" class=\"dataframe\">\n",
       "  <thead>\n",
       "    <tr style=\"text-align: right;\">\n",
       "      <th></th>\n",
       "      <th>model</th>\n",
       "      <th>year</th>\n",
       "      <th>price</th>\n",
       "      <th>transmission</th>\n",
       "      <th>mileage</th>\n",
       "      <th>fuel type</th>\n",
       "      <th>road_tax</th>\n",
       "      <th>mileage2</th>\n",
       "      <th>fuel type2</th>\n",
       "      <th>engine size2</th>\n",
       "    </tr>\n",
       "  </thead>\n",
       "  <tbody>\n",
       "    <tr>\n",
       "      <th>10</th>\n",
       "      <td>C Class</td>\n",
       "      <td>2013.0</td>\n",
       "      <td>£9,995</td>\n",
       "      <td>Automatic</td>\n",
       "      <td>44,900</td>\n",
       "      <td>29</td>\n",
       "      <td>160.0</td>\n",
       "      <td>46.3</td>\n",
       "      <td>Petrol</td>\n",
       "      <td>1.6</td>\n",
       "    </tr>\n",
       "    <tr>\n",
       "      <th>11</th>\n",
       "      <td>C Class</td>\n",
       "      <td>2012.0</td>\n",
       "      <td>£6,995</td>\n",
       "      <td>Automatic</td>\n",
       "      <td>88,200</td>\n",
       "      <td>34</td>\n",
       "      <td>125.0</td>\n",
       "      <td>58.9</td>\n",
       "      <td>Diesel</td>\n",
       "      <td>2.1</td>\n",
       "    </tr>\n",
       "    <tr>\n",
       "      <th>12</th>\n",
       "      <td>C Class</td>\n",
       "      <td>2012.0</td>\n",
       "      <td>£7,495</td>\n",
       "      <td>Automatic</td>\n",
       "      <td>115,000</td>\n",
       "      <td>37</td>\n",
       "      <td>145.0</td>\n",
       "      <td>54.3</td>\n",
       "      <td>Diesel</td>\n",
       "      <td>2.1</td>\n",
       "    </tr>\n",
       "    <tr>\n",
       "      <th>13</th>\n",
       "      <td>C Class</td>\n",
       "      <td>2011.0</td>\n",
       "      <td>£8,995</td>\n",
       "      <td>Automatic</td>\n",
       "      <td>69,250</td>\n",
       "      <td>29</td>\n",
       "      <td>150.0</td>\n",
       "      <td>53.3</td>\n",
       "      <td>Diesel</td>\n",
       "      <td>2.1</td>\n",
       "    </tr>\n",
       "    <tr>\n",
       "      <th>14</th>\n",
       "      <td>C Class</td>\n",
       "      <td>2015.0</td>\n",
       "      <td>£14,995</td>\n",
       "      <td>Automatic</td>\n",
       "      <td>49,850</td>\n",
       "      <td>31</td>\n",
       "      <td>30.0</td>\n",
       "      <td>62.8</td>\n",
       "      <td>Diesel</td>\n",
       "      <td>2.1</td>\n",
       "    </tr>\n",
       "    <tr>\n",
       "      <th>...</th>\n",
       "      <td>...</td>\n",
       "      <td>...</td>\n",
       "      <td>...</td>\n",
       "      <td>...</td>\n",
       "      <td>...</td>\n",
       "      <td>...</td>\n",
       "      <td>...</td>\n",
       "      <td>...</td>\n",
       "      <td>...</td>\n",
       "      <td>...</td>\n",
       "    </tr>\n",
       "    <tr>\n",
       "      <th>4001</th>\n",
       "      <td>C Class</td>\n",
       "      <td>2017.0</td>\n",
       "      <td>£14,700</td>\n",
       "      <td>Manual</td>\n",
       "      <td>31,357</td>\n",
       "      <td>25</td>\n",
       "      <td>150.0</td>\n",
       "      <td>70.6</td>\n",
       "      <td>Diesel</td>\n",
       "      <td>1.598</td>\n",
       "    </tr>\n",
       "    <tr>\n",
       "      <th>4002</th>\n",
       "      <td>C Class</td>\n",
       "      <td>2018.0</td>\n",
       "      <td>£18,500</td>\n",
       "      <td>Automatic</td>\n",
       "      <td>28,248</td>\n",
       "      <td>31</td>\n",
       "      <td>150.0</td>\n",
       "      <td>64.2</td>\n",
       "      <td>Diesel</td>\n",
       "      <td>2.143</td>\n",
       "    </tr>\n",
       "    <tr>\n",
       "      <th>4003</th>\n",
       "      <td>C Class</td>\n",
       "      <td>2014.0</td>\n",
       "      <td>£11,900</td>\n",
       "      <td>Manual</td>\n",
       "      <td>48,055</td>\n",
       "      <td>31</td>\n",
       "      <td>20.0</td>\n",
       "      <td>65.7</td>\n",
       "      <td>Diesel</td>\n",
       "      <td>2.143</td>\n",
       "    </tr>\n",
       "    <tr>\n",
       "      <th>4004</th>\n",
       "      <td>C Class</td>\n",
       "      <td>2014.0</td>\n",
       "      <td>£11,300</td>\n",
       "      <td>Automatic</td>\n",
       "      <td>49,865</td>\n",
       "      <td>46</td>\n",
       "      <td>145.0</td>\n",
       "      <td>56.5</td>\n",
       "      <td>Diesel</td>\n",
       "      <td>2.143</td>\n",
       "    </tr>\n",
       "    <tr>\n",
       "      <th>4005</th>\n",
       "      <td>C Class</td>\n",
       "      <td>2014.0</td>\n",
       "      <td>£14,800</td>\n",
       "      <td>Automatic</td>\n",
       "      <td>55,445</td>\n",
       "      <td>37</td>\n",
       "      <td>30.0</td>\n",
       "      <td>64.2</td>\n",
       "      <td>Diesel</td>\n",
       "      <td>2.143</td>\n",
       "    </tr>\n",
       "  </tbody>\n",
       "</table>\n",
       "<p>3808 rows × 10 columns</p>\n",
       "</div>"
      ],
      "text/plain": [
       "         model    year     price transmission  mileage fuel type  road_tax  \\\n",
       "10     C Class  2013.0    £9,995    Automatic   44,900        29     160.0   \n",
       "11     C Class  2012.0    £6,995    Automatic   88,200        34     125.0   \n",
       "12     C Class  2012.0    £7,495    Automatic  115,000        37     145.0   \n",
       "13     C Class  2011.0    £8,995    Automatic   69,250        29     150.0   \n",
       "14     C Class  2015.0   £14,995    Automatic   49,850        31      30.0   \n",
       "...        ...     ...       ...          ...      ...       ...       ...   \n",
       "4001   C Class  2017.0   £14,700       Manual   31,357        25     150.0   \n",
       "4002   C Class  2018.0   £18,500    Automatic   28,248        31     150.0   \n",
       "4003   C Class  2014.0   £11,900       Manual   48,055        31      20.0   \n",
       "4004   C Class  2014.0   £11,300    Automatic   49,865        46     145.0   \n",
       "4005   C Class  2014.0   £14,800    Automatic   55,445        37      30.0   \n",
       "\n",
       "     mileage2 fuel type2 engine size2  \n",
       "10       46.3     Petrol          1.6  \n",
       "11       58.9     Diesel          2.1  \n",
       "12       54.3     Diesel          2.1  \n",
       "13       53.3     Diesel          2.1  \n",
       "14       62.8     Diesel          2.1  \n",
       "...       ...        ...          ...  \n",
       "4001     70.6     Diesel        1.598  \n",
       "4002     64.2     Diesel        2.143  \n",
       "4003     65.7     Diesel        2.143  \n",
       "4004     56.5     Diesel        2.143  \n",
       "4005     64.2     Diesel        2.143  \n",
       "\n",
       "[3808 rows x 10 columns]"
      ]
     },
     "execution_count": 9,
     "metadata": {},
     "output_type": "execute_result"
    }
   ],
   "source": [
    "data"
   ]
  },
  {
   "cell_type": "code",
   "execution_count": 10,
   "id": "3ccc3a6c",
   "metadata": {
    "execution": {
     "iopub.execute_input": "2024-12-30T22:51:22.307509Z",
     "iopub.status.busy": "2024-12-30T22:51:22.307121Z",
     "iopub.status.idle": "2024-12-30T22:51:22.314894Z",
     "shell.execute_reply": "2024-12-30T22:51:22.314017Z"
    },
    "papermill": {
     "duration": 0.017025,
     "end_time": "2024-12-30T22:51:22.316681",
     "exception": false,
     "start_time": "2024-12-30T22:51:22.299656",
     "status": "completed"
    },
    "tags": []
   },
   "outputs": [],
   "source": [
    "data.rename(columns={'mileage2':'miles_per_gallon'}, inplace=True)\n",
    "data[\"miles_per_gallon\"] = data[\"miles_per_gallon\"].astype(\"float\")\n",
    "data[\"miles_per_gallon\"].fillna(data[\"miles_per_gallon\"].median(),inplace=True)"
   ]
  },
  {
   "cell_type": "code",
   "execution_count": 11,
   "id": "0a537d54",
   "metadata": {
    "execution": {
     "iopub.execute_input": "2024-12-30T22:51:22.329645Z",
     "iopub.status.busy": "2024-12-30T22:51:22.329314Z",
     "iopub.status.idle": "2024-12-30T22:51:22.346130Z",
     "shell.execute_reply": "2024-12-30T22:51:22.345035Z"
    },
    "papermill": {
     "duration": 0.025095,
     "end_time": "2024-12-30T22:51:22.347818",
     "exception": false,
     "start_time": "2024-12-30T22:51:22.322723",
     "status": "completed"
    },
    "tags": []
   },
   "outputs": [
    {
     "data": {
      "text/html": [
       "<div>\n",
       "<style scoped>\n",
       "    .dataframe tbody tr th:only-of-type {\n",
       "        vertical-align: middle;\n",
       "    }\n",
       "\n",
       "    .dataframe tbody tr th {\n",
       "        vertical-align: top;\n",
       "    }\n",
       "\n",
       "    .dataframe thead th {\n",
       "        text-align: right;\n",
       "    }\n",
       "</style>\n",
       "<table border=\"1\" class=\"dataframe\">\n",
       "  <thead>\n",
       "    <tr style=\"text-align: right;\">\n",
       "      <th></th>\n",
       "      <th>model</th>\n",
       "      <th>year</th>\n",
       "      <th>price</th>\n",
       "      <th>transmission</th>\n",
       "      <th>mileage</th>\n",
       "      <th>fuel type</th>\n",
       "      <th>road_tax</th>\n",
       "      <th>miles_per_gallon</th>\n",
       "      <th>fuel type2</th>\n",
       "      <th>engine size2</th>\n",
       "    </tr>\n",
       "  </thead>\n",
       "  <tbody>\n",
       "    <tr>\n",
       "      <th>10</th>\n",
       "      <td>C Class</td>\n",
       "      <td>2013.0</td>\n",
       "      <td>£9,995</td>\n",
       "      <td>Automatic</td>\n",
       "      <td>44,900</td>\n",
       "      <td>29</td>\n",
       "      <td>160.0</td>\n",
       "      <td>46.3</td>\n",
       "      <td>Petrol</td>\n",
       "      <td>1.6</td>\n",
       "    </tr>\n",
       "    <tr>\n",
       "      <th>11</th>\n",
       "      <td>C Class</td>\n",
       "      <td>2012.0</td>\n",
       "      <td>£6,995</td>\n",
       "      <td>Automatic</td>\n",
       "      <td>88,200</td>\n",
       "      <td>34</td>\n",
       "      <td>125.0</td>\n",
       "      <td>58.9</td>\n",
       "      <td>Diesel</td>\n",
       "      <td>2.1</td>\n",
       "    </tr>\n",
       "    <tr>\n",
       "      <th>12</th>\n",
       "      <td>C Class</td>\n",
       "      <td>2012.0</td>\n",
       "      <td>£7,495</td>\n",
       "      <td>Automatic</td>\n",
       "      <td>115,000</td>\n",
       "      <td>37</td>\n",
       "      <td>145.0</td>\n",
       "      <td>54.3</td>\n",
       "      <td>Diesel</td>\n",
       "      <td>2.1</td>\n",
       "    </tr>\n",
       "    <tr>\n",
       "      <th>13</th>\n",
       "      <td>C Class</td>\n",
       "      <td>2011.0</td>\n",
       "      <td>£8,995</td>\n",
       "      <td>Automatic</td>\n",
       "      <td>69,250</td>\n",
       "      <td>29</td>\n",
       "      <td>150.0</td>\n",
       "      <td>53.3</td>\n",
       "      <td>Diesel</td>\n",
       "      <td>2.1</td>\n",
       "    </tr>\n",
       "    <tr>\n",
       "      <th>14</th>\n",
       "      <td>C Class</td>\n",
       "      <td>2015.0</td>\n",
       "      <td>£14,995</td>\n",
       "      <td>Automatic</td>\n",
       "      <td>49,850</td>\n",
       "      <td>31</td>\n",
       "      <td>30.0</td>\n",
       "      <td>62.8</td>\n",
       "      <td>Diesel</td>\n",
       "      <td>2.1</td>\n",
       "    </tr>\n",
       "    <tr>\n",
       "      <th>...</th>\n",
       "      <td>...</td>\n",
       "      <td>...</td>\n",
       "      <td>...</td>\n",
       "      <td>...</td>\n",
       "      <td>...</td>\n",
       "      <td>...</td>\n",
       "      <td>...</td>\n",
       "      <td>...</td>\n",
       "      <td>...</td>\n",
       "      <td>...</td>\n",
       "    </tr>\n",
       "    <tr>\n",
       "      <th>4001</th>\n",
       "      <td>C Class</td>\n",
       "      <td>2017.0</td>\n",
       "      <td>£14,700</td>\n",
       "      <td>Manual</td>\n",
       "      <td>31,357</td>\n",
       "      <td>25</td>\n",
       "      <td>150.0</td>\n",
       "      <td>70.6</td>\n",
       "      <td>Diesel</td>\n",
       "      <td>1.598</td>\n",
       "    </tr>\n",
       "    <tr>\n",
       "      <th>4002</th>\n",
       "      <td>C Class</td>\n",
       "      <td>2018.0</td>\n",
       "      <td>£18,500</td>\n",
       "      <td>Automatic</td>\n",
       "      <td>28,248</td>\n",
       "      <td>31</td>\n",
       "      <td>150.0</td>\n",
       "      <td>64.2</td>\n",
       "      <td>Diesel</td>\n",
       "      <td>2.143</td>\n",
       "    </tr>\n",
       "    <tr>\n",
       "      <th>4003</th>\n",
       "      <td>C Class</td>\n",
       "      <td>2014.0</td>\n",
       "      <td>£11,900</td>\n",
       "      <td>Manual</td>\n",
       "      <td>48,055</td>\n",
       "      <td>31</td>\n",
       "      <td>20.0</td>\n",
       "      <td>65.7</td>\n",
       "      <td>Diesel</td>\n",
       "      <td>2.143</td>\n",
       "    </tr>\n",
       "    <tr>\n",
       "      <th>4004</th>\n",
       "      <td>C Class</td>\n",
       "      <td>2014.0</td>\n",
       "      <td>£11,300</td>\n",
       "      <td>Automatic</td>\n",
       "      <td>49,865</td>\n",
       "      <td>46</td>\n",
       "      <td>145.0</td>\n",
       "      <td>56.5</td>\n",
       "      <td>Diesel</td>\n",
       "      <td>2.143</td>\n",
       "    </tr>\n",
       "    <tr>\n",
       "      <th>4005</th>\n",
       "      <td>C Class</td>\n",
       "      <td>2014.0</td>\n",
       "      <td>£14,800</td>\n",
       "      <td>Automatic</td>\n",
       "      <td>55,445</td>\n",
       "      <td>37</td>\n",
       "      <td>30.0</td>\n",
       "      <td>64.2</td>\n",
       "      <td>Diesel</td>\n",
       "      <td>2.143</td>\n",
       "    </tr>\n",
       "  </tbody>\n",
       "</table>\n",
       "<p>3808 rows × 10 columns</p>\n",
       "</div>"
      ],
      "text/plain": [
       "         model    year     price transmission  mileage fuel type  road_tax  \\\n",
       "10     C Class  2013.0    £9,995    Automatic   44,900        29     160.0   \n",
       "11     C Class  2012.0    £6,995    Automatic   88,200        34     125.0   \n",
       "12     C Class  2012.0    £7,495    Automatic  115,000        37     145.0   \n",
       "13     C Class  2011.0    £8,995    Automatic   69,250        29     150.0   \n",
       "14     C Class  2015.0   £14,995    Automatic   49,850        31      30.0   \n",
       "...        ...     ...       ...          ...      ...       ...       ...   \n",
       "4001   C Class  2017.0   £14,700       Manual   31,357        25     150.0   \n",
       "4002   C Class  2018.0   £18,500    Automatic   28,248        31     150.0   \n",
       "4003   C Class  2014.0   £11,900       Manual   48,055        31      20.0   \n",
       "4004   C Class  2014.0   £11,300    Automatic   49,865        46     145.0   \n",
       "4005   C Class  2014.0   £14,800    Automatic   55,445        37      30.0   \n",
       "\n",
       "      miles_per_gallon fuel type2 engine size2  \n",
       "10                46.3     Petrol          1.6  \n",
       "11                58.9     Diesel          2.1  \n",
       "12                54.3     Diesel          2.1  \n",
       "13                53.3     Diesel          2.1  \n",
       "14                62.8     Diesel          2.1  \n",
       "...                ...        ...          ...  \n",
       "4001              70.6     Diesel        1.598  \n",
       "4002              64.2     Diesel        2.143  \n",
       "4003              65.7     Diesel        2.143  \n",
       "4004              56.5     Diesel        2.143  \n",
       "4005              64.2     Diesel        2.143  \n",
       "\n",
       "[3808 rows x 10 columns]"
      ]
     },
     "execution_count": 11,
     "metadata": {},
     "output_type": "execute_result"
    }
   ],
   "source": [
    "data"
   ]
  },
  {
   "cell_type": "code",
   "execution_count": 12,
   "id": "710118d7",
   "metadata": {
    "execution": {
     "iopub.execute_input": "2024-12-30T22:51:22.365878Z",
     "iopub.status.busy": "2024-12-30T22:51:22.365508Z",
     "iopub.status.idle": "2024-12-30T22:51:22.371887Z",
     "shell.execute_reply": "2024-12-30T22:51:22.370570Z"
    },
    "papermill": {
     "duration": 0.020024,
     "end_time": "2024-12-30T22:51:22.374220",
     "exception": false,
     "start_time": "2024-12-30T22:51:22.354196",
     "status": "completed"
    },
    "tags": []
   },
   "outputs": [],
   "source": [
    "data.drop([\"fuel type\"],axis=1,inplace=True)"
   ]
  },
  {
   "cell_type": "code",
   "execution_count": 13,
   "id": "ab2e67b9",
   "metadata": {
    "execution": {
     "iopub.execute_input": "2024-12-30T22:51:22.394416Z",
     "iopub.status.busy": "2024-12-30T22:51:22.393902Z",
     "iopub.status.idle": "2024-12-30T22:51:22.408506Z",
     "shell.execute_reply": "2024-12-30T22:51:22.407385Z"
    },
    "papermill": {
     "duration": 0.028638,
     "end_time": "2024-12-30T22:51:22.410686",
     "exception": false,
     "start_time": "2024-12-30T22:51:22.382048",
     "status": "completed"
    },
    "tags": []
   },
   "outputs": [
    {
     "name": "stdout",
     "output_type": "stream",
     "text": [
      "<class 'pandas.core.frame.DataFrame'>\n",
      "Index: 3808 entries, 10 to 4005\n",
      "Data columns (total 9 columns):\n",
      " #   Column            Non-Null Count  Dtype  \n",
      "---  ------            --------------  -----  \n",
      " 0   model             3808 non-null   object \n",
      " 1   year              3807 non-null   float64\n",
      " 2   price             3808 non-null   object \n",
      " 3   transmission      3808 non-null   object \n",
      " 4   mileage           3808 non-null   object \n",
      " 5   road_tax          3808 non-null   float64\n",
      " 6   miles_per_gallon  3808 non-null   float64\n",
      " 7   fuel type2        3808 non-null   object \n",
      " 8   engine size2      3808 non-null   object \n",
      "dtypes: float64(3), object(6)\n",
      "memory usage: 297.5+ KB\n"
     ]
    }
   ],
   "source": [
    "data.info()"
   ]
  },
  {
   "cell_type": "code",
   "execution_count": 14,
   "id": "69a10b6d",
   "metadata": {
    "execution": {
     "iopub.execute_input": "2024-12-30T22:51:22.434617Z",
     "iopub.status.busy": "2024-12-30T22:51:22.434159Z",
     "iopub.status.idle": "2024-12-30T22:51:22.441214Z",
     "shell.execute_reply": "2024-12-30T22:51:22.440162Z"
    },
    "papermill": {
     "duration": 0.020987,
     "end_time": "2024-12-30T22:51:22.443162",
     "exception": false,
     "start_time": "2024-12-30T22:51:22.422175",
     "status": "completed"
    },
    "tags": []
   },
   "outputs": [],
   "source": [
    "data.rename(columns={'fuel type2': 'fuel_type'}, inplace=True)\n",
    "data.rename(columns={'engine size2': 'engine_size'}, inplace=True)"
   ]
  },
  {
   "cell_type": "code",
   "execution_count": 15,
   "id": "d4a61166",
   "metadata": {
    "execution": {
     "iopub.execute_input": "2024-12-30T22:51:22.456813Z",
     "iopub.status.busy": "2024-12-30T22:51:22.456500Z",
     "iopub.status.idle": "2024-12-30T22:51:22.464187Z",
     "shell.execute_reply": "2024-12-30T22:51:22.463136Z"
    },
    "papermill": {
     "duration": 0.016253,
     "end_time": "2024-12-30T22:51:22.465853",
     "exception": false,
     "start_time": "2024-12-30T22:51:22.449600",
     "status": "completed"
    },
    "tags": []
   },
   "outputs": [
    {
     "data": {
      "text/plain": [
       "engine_size\n",
       "2          1224\n",
       "2.1         985\n",
       "1.5         546\n",
       "1.6         231\n",
       "2143        174\n",
       "3           155\n",
       "2.143       109\n",
       "4            78\n",
       "1991         56\n",
       "2000         37\n",
       "2100         28\n",
       "1.991        25\n",
       "1950         23\n",
       "1497         17\n",
       "1595         13\n",
       "1.8          11\n",
       "3982         10\n",
       "1796          9\n",
       "6.2           8\n",
       "3000          7\n",
       "1598          6\n",
       "2148          5\n",
       "1597          5\n",
       "1600          5\n",
       "2.14          4\n",
       "1500          4\n",
       "1.598         4\n",
       "2.2           3\n",
       "2996          3\n",
       "1800          2\n",
       "1998          2\n",
       "2145          2\n",
       "2685          1\n",
       "Unknown       1\n",
       "2597          1\n",
       "5439          1\n",
       "2.15          1\n",
       "3498          1\n",
       "1.497         1\n",
       "2987          1\n",
       "2497          1\n",
       "2.7           1\n",
       "4000          1\n",
       "3606          1\n",
       "1461          1\n",
       "0             1\n",
       "2962          1\n",
       "2.996         1\n",
       "6208          1\n",
       "Name: count, dtype: int64"
      ]
     },
     "execution_count": 15,
     "metadata": {},
     "output_type": "execute_result"
    }
   ],
   "source": [
    "data[\"engine_size\"].value_counts()"
   ]
  },
  {
   "cell_type": "code",
   "execution_count": 16,
   "id": "cccec144",
   "metadata": {
    "execution": {
     "iopub.execute_input": "2024-12-30T22:51:22.480054Z",
     "iopub.status.busy": "2024-12-30T22:51:22.479593Z",
     "iopub.status.idle": "2024-12-30T22:51:22.497881Z",
     "shell.execute_reply": "2024-12-30T22:51:22.496642Z"
    },
    "papermill": {
     "duration": 0.027511,
     "end_time": "2024-12-30T22:51:22.499821",
     "exception": false,
     "start_time": "2024-12-30T22:51:22.472310",
     "status": "completed"
    },
    "tags": []
   },
   "outputs": [
    {
     "name": "stderr",
     "output_type": "stream",
     "text": [
      "<ipython-input-16-2655ea05313f>:2: SettingWithCopyWarning: \n",
      "A value is trying to be set on a copy of a slice from a DataFrame.\n",
      "Try using .loc[row_indexer,col_indexer] = value instead\n",
      "\n",
      "See the caveats in the documentation: https://pandas.pydata.org/pandas-docs/stable/user_guide/indexing.html#returning-a-view-versus-a-copy\n",
      "  data[\"engine_size\"] = data[\"engine_size\"].replace({\",\":\"\"},regex=True)\n",
      "<ipython-input-16-2655ea05313f>:3: SettingWithCopyWarning: \n",
      "A value is trying to be set on a copy of a slice from a DataFrame.\n",
      "Try using .loc[row_indexer,col_indexer] = value instead\n",
      "\n",
      "See the caveats in the documentation: https://pandas.pydata.org/pandas-docs/stable/user_guide/indexing.html#returning-a-view-versus-a-copy\n",
      "  data[\"engine_size\"] = data[\"engine_size\"].astype(\"float\")\n"
     ]
    }
   ],
   "source": [
    "data = data[data[\"engine_size\"]!=\"Unknown\"]\n",
    "data[\"engine_size\"] = data[\"engine_size\"].replace({\",\":\"\"},regex=True)\n",
    "data[\"engine_size\"] = data[\"engine_size\"].astype(\"float\")"
   ]
  },
  {
   "cell_type": "code",
   "execution_count": 17,
   "id": "531227ea",
   "metadata": {
    "execution": {
     "iopub.execute_input": "2024-12-30T22:51:22.514240Z",
     "iopub.status.busy": "2024-12-30T22:51:22.513742Z",
     "iopub.status.idle": "2024-12-30T22:51:22.533640Z",
     "shell.execute_reply": "2024-12-30T22:51:22.532445Z"
    },
    "papermill": {
     "duration": 0.028883,
     "end_time": "2024-12-30T22:51:22.535304",
     "exception": false,
     "start_time": "2024-12-30T22:51:22.506421",
     "status": "completed"
    },
    "tags": []
   },
   "outputs": [
    {
     "data": {
      "text/html": [
       "<div>\n",
       "<style scoped>\n",
       "    .dataframe tbody tr th:only-of-type {\n",
       "        vertical-align: middle;\n",
       "    }\n",
       "\n",
       "    .dataframe tbody tr th {\n",
       "        vertical-align: top;\n",
       "    }\n",
       "\n",
       "    .dataframe thead th {\n",
       "        text-align: right;\n",
       "    }\n",
       "</style>\n",
       "<table border=\"1\" class=\"dataframe\">\n",
       "  <thead>\n",
       "    <tr style=\"text-align: right;\">\n",
       "      <th></th>\n",
       "      <th>model</th>\n",
       "      <th>year</th>\n",
       "      <th>price</th>\n",
       "      <th>transmission</th>\n",
       "      <th>mileage</th>\n",
       "      <th>road_tax</th>\n",
       "      <th>miles_per_gallon</th>\n",
       "      <th>fuel_type</th>\n",
       "      <th>engine_size</th>\n",
       "    </tr>\n",
       "  </thead>\n",
       "  <tbody>\n",
       "    <tr>\n",
       "      <th>10</th>\n",
       "      <td>C Class</td>\n",
       "      <td>2013.0</td>\n",
       "      <td>£9,995</td>\n",
       "      <td>Automatic</td>\n",
       "      <td>44,900</td>\n",
       "      <td>160.0</td>\n",
       "      <td>46.3</td>\n",
       "      <td>Petrol</td>\n",
       "      <td>1.600</td>\n",
       "    </tr>\n",
       "    <tr>\n",
       "      <th>11</th>\n",
       "      <td>C Class</td>\n",
       "      <td>2012.0</td>\n",
       "      <td>£6,995</td>\n",
       "      <td>Automatic</td>\n",
       "      <td>88,200</td>\n",
       "      <td>125.0</td>\n",
       "      <td>58.9</td>\n",
       "      <td>Diesel</td>\n",
       "      <td>2.100</td>\n",
       "    </tr>\n",
       "    <tr>\n",
       "      <th>12</th>\n",
       "      <td>C Class</td>\n",
       "      <td>2012.0</td>\n",
       "      <td>£7,495</td>\n",
       "      <td>Automatic</td>\n",
       "      <td>115,000</td>\n",
       "      <td>145.0</td>\n",
       "      <td>54.3</td>\n",
       "      <td>Diesel</td>\n",
       "      <td>2.100</td>\n",
       "    </tr>\n",
       "    <tr>\n",
       "      <th>13</th>\n",
       "      <td>C Class</td>\n",
       "      <td>2011.0</td>\n",
       "      <td>£8,995</td>\n",
       "      <td>Automatic</td>\n",
       "      <td>69,250</td>\n",
       "      <td>150.0</td>\n",
       "      <td>53.3</td>\n",
       "      <td>Diesel</td>\n",
       "      <td>2.100</td>\n",
       "    </tr>\n",
       "    <tr>\n",
       "      <th>14</th>\n",
       "      <td>C Class</td>\n",
       "      <td>2015.0</td>\n",
       "      <td>£14,995</td>\n",
       "      <td>Automatic</td>\n",
       "      <td>49,850</td>\n",
       "      <td>30.0</td>\n",
       "      <td>62.8</td>\n",
       "      <td>Diesel</td>\n",
       "      <td>2.100</td>\n",
       "    </tr>\n",
       "    <tr>\n",
       "      <th>...</th>\n",
       "      <td>...</td>\n",
       "      <td>...</td>\n",
       "      <td>...</td>\n",
       "      <td>...</td>\n",
       "      <td>...</td>\n",
       "      <td>...</td>\n",
       "      <td>...</td>\n",
       "      <td>...</td>\n",
       "      <td>...</td>\n",
       "    </tr>\n",
       "    <tr>\n",
       "      <th>4001</th>\n",
       "      <td>C Class</td>\n",
       "      <td>2017.0</td>\n",
       "      <td>£14,700</td>\n",
       "      <td>Manual</td>\n",
       "      <td>31,357</td>\n",
       "      <td>150.0</td>\n",
       "      <td>70.6</td>\n",
       "      <td>Diesel</td>\n",
       "      <td>1.598</td>\n",
       "    </tr>\n",
       "    <tr>\n",
       "      <th>4002</th>\n",
       "      <td>C Class</td>\n",
       "      <td>2018.0</td>\n",
       "      <td>£18,500</td>\n",
       "      <td>Automatic</td>\n",
       "      <td>28,248</td>\n",
       "      <td>150.0</td>\n",
       "      <td>64.2</td>\n",
       "      <td>Diesel</td>\n",
       "      <td>2.143</td>\n",
       "    </tr>\n",
       "    <tr>\n",
       "      <th>4003</th>\n",
       "      <td>C Class</td>\n",
       "      <td>2014.0</td>\n",
       "      <td>£11,900</td>\n",
       "      <td>Manual</td>\n",
       "      <td>48,055</td>\n",
       "      <td>20.0</td>\n",
       "      <td>65.7</td>\n",
       "      <td>Diesel</td>\n",
       "      <td>2.143</td>\n",
       "    </tr>\n",
       "    <tr>\n",
       "      <th>4004</th>\n",
       "      <td>C Class</td>\n",
       "      <td>2014.0</td>\n",
       "      <td>£11,300</td>\n",
       "      <td>Automatic</td>\n",
       "      <td>49,865</td>\n",
       "      <td>145.0</td>\n",
       "      <td>56.5</td>\n",
       "      <td>Diesel</td>\n",
       "      <td>2.143</td>\n",
       "    </tr>\n",
       "    <tr>\n",
       "      <th>4005</th>\n",
       "      <td>C Class</td>\n",
       "      <td>2014.0</td>\n",
       "      <td>£14,800</td>\n",
       "      <td>Automatic</td>\n",
       "      <td>55,445</td>\n",
       "      <td>30.0</td>\n",
       "      <td>64.2</td>\n",
       "      <td>Diesel</td>\n",
       "      <td>2.143</td>\n",
       "    </tr>\n",
       "  </tbody>\n",
       "</table>\n",
       "<p>3807 rows × 9 columns</p>\n",
       "</div>"
      ],
      "text/plain": [
       "         model    year     price transmission  mileage  road_tax  \\\n",
       "10     C Class  2013.0    £9,995    Automatic   44,900     160.0   \n",
       "11     C Class  2012.0    £6,995    Automatic   88,200     125.0   \n",
       "12     C Class  2012.0    £7,495    Automatic  115,000     145.0   \n",
       "13     C Class  2011.0    £8,995    Automatic   69,250     150.0   \n",
       "14     C Class  2015.0   £14,995    Automatic   49,850      30.0   \n",
       "...        ...     ...       ...          ...      ...       ...   \n",
       "4001   C Class  2017.0   £14,700       Manual   31,357     150.0   \n",
       "4002   C Class  2018.0   £18,500    Automatic   28,248     150.0   \n",
       "4003   C Class  2014.0   £11,900       Manual   48,055      20.0   \n",
       "4004   C Class  2014.0   £11,300    Automatic   49,865     145.0   \n",
       "4005   C Class  2014.0   £14,800    Automatic   55,445      30.0   \n",
       "\n",
       "      miles_per_gallon fuel_type  engine_size  \n",
       "10                46.3    Petrol        1.600  \n",
       "11                58.9    Diesel        2.100  \n",
       "12                54.3    Diesel        2.100  \n",
       "13                53.3    Diesel        2.100  \n",
       "14                62.8    Diesel        2.100  \n",
       "...                ...       ...          ...  \n",
       "4001              70.6    Diesel        1.598  \n",
       "4002              64.2    Diesel        2.143  \n",
       "4003              65.7    Diesel        2.143  \n",
       "4004              56.5    Diesel        2.143  \n",
       "4005              64.2    Diesel        2.143  \n",
       "\n",
       "[3807 rows x 9 columns]"
      ]
     },
     "execution_count": 17,
     "metadata": {},
     "output_type": "execute_result"
    }
   ],
   "source": [
    "data"
   ]
  },
  {
   "cell_type": "code",
   "execution_count": 18,
   "id": "58cb0b60",
   "metadata": {
    "execution": {
     "iopub.execute_input": "2024-12-30T22:51:22.550621Z",
     "iopub.status.busy": "2024-12-30T22:51:22.550278Z",
     "iopub.status.idle": "2024-12-30T22:51:22.561847Z",
     "shell.execute_reply": "2024-12-30T22:51:22.560434Z"
    },
    "papermill": {
     "duration": 0.02113,
     "end_time": "2024-12-30T22:51:22.563717",
     "exception": false,
     "start_time": "2024-12-30T22:51:22.542587",
     "status": "completed"
    },
    "tags": []
   },
   "outputs": [
    {
     "name": "stdout",
     "output_type": "stream",
     "text": [
      "<class 'pandas.core.frame.DataFrame'>\n",
      "Index: 3807 entries, 10 to 4005\n",
      "Data columns (total 9 columns):\n",
      " #   Column            Non-Null Count  Dtype  \n",
      "---  ------            --------------  -----  \n",
      " 0   model             3807 non-null   object \n",
      " 1   year              3806 non-null   float64\n",
      " 2   price             3807 non-null   object \n",
      " 3   transmission      3807 non-null   object \n",
      " 4   mileage           3807 non-null   object \n",
      " 5   road_tax          3807 non-null   float64\n",
      " 6   miles_per_gallon  3807 non-null   float64\n",
      " 7   fuel_type         3807 non-null   object \n",
      " 8   engine_size       3807 non-null   float64\n",
      "dtypes: float64(4), object(5)\n",
      "memory usage: 297.4+ KB\n"
     ]
    }
   ],
   "source": [
    "data.info()"
   ]
  },
  {
   "cell_type": "code",
   "execution_count": 19,
   "id": "ad4eb9cb",
   "metadata": {
    "execution": {
     "iopub.execute_input": "2024-12-30T22:51:22.586916Z",
     "iopub.status.busy": "2024-12-30T22:51:22.586424Z",
     "iopub.status.idle": "2024-12-30T22:51:22.596099Z",
     "shell.execute_reply": "2024-12-30T22:51:22.594944Z"
    },
    "papermill": {
     "duration": 0.022038,
     "end_time": "2024-12-30T22:51:22.597775",
     "exception": false,
     "start_time": "2024-12-30T22:51:22.575737",
     "status": "completed"
    },
    "tags": []
   },
   "outputs": [
    {
     "name": "stderr",
     "output_type": "stream",
     "text": [
      "<ipython-input-19-f1116dacf2bb>:1: SettingWithCopyWarning: \n",
      "A value is trying to be set on a copy of a slice from a DataFrame\n",
      "\n",
      "See the caveats in the documentation: https://pandas.pydata.org/pandas-docs/stable/user_guide/indexing.html#returning-a-view-versus-a-copy\n",
      "  data.dropna(inplace=True)\n"
     ]
    }
   ],
   "source": [
    "data.dropna(inplace=True)"
   ]
  },
  {
   "cell_type": "code",
   "execution_count": 20,
   "id": "c37a35c4",
   "metadata": {
    "execution": {
     "iopub.execute_input": "2024-12-30T22:51:22.619017Z",
     "iopub.status.busy": "2024-12-30T22:51:22.618653Z",
     "iopub.status.idle": "2024-12-30T22:51:22.630570Z",
     "shell.execute_reply": "2024-12-30T22:51:22.629210Z"
    },
    "papermill": {
     "duration": 0.027463,
     "end_time": "2024-12-30T22:51:22.632320",
     "exception": false,
     "start_time": "2024-12-30T22:51:22.604857",
     "status": "completed"
    },
    "tags": []
   },
   "outputs": [
    {
     "name": "stdout",
     "output_type": "stream",
     "text": [
      "<class 'pandas.core.frame.DataFrame'>\n",
      "Index: 3806 entries, 10 to 4005\n",
      "Data columns (total 9 columns):\n",
      " #   Column            Non-Null Count  Dtype  \n",
      "---  ------            --------------  -----  \n",
      " 0   model             3806 non-null   object \n",
      " 1   year              3806 non-null   float64\n",
      " 2   price             3806 non-null   object \n",
      " 3   transmission      3806 non-null   object \n",
      " 4   mileage           3806 non-null   object \n",
      " 5   road_tax          3806 non-null   float64\n",
      " 6   miles_per_gallon  3806 non-null   float64\n",
      " 7   fuel_type         3806 non-null   object \n",
      " 8   engine_size       3806 non-null   float64\n",
      "dtypes: float64(4), object(5)\n",
      "memory usage: 297.3+ KB\n"
     ]
    }
   ],
   "source": [
    "data.info()"
   ]
  },
  {
   "cell_type": "code",
   "execution_count": 21,
   "id": "cbfed386",
   "metadata": {
    "execution": {
     "iopub.execute_input": "2024-12-30T22:51:22.647909Z",
     "iopub.status.busy": "2024-12-30T22:51:22.647543Z",
     "iopub.status.idle": "2024-12-30T22:51:22.667869Z",
     "shell.execute_reply": "2024-12-30T22:51:22.666803Z"
    },
    "papermill": {
     "duration": 0.030122,
     "end_time": "2024-12-30T22:51:22.669603",
     "exception": false,
     "start_time": "2024-12-30T22:51:22.639481",
     "status": "completed"
    },
    "tags": []
   },
   "outputs": [
    {
     "name": "stderr",
     "output_type": "stream",
     "text": [
      "<ipython-input-21-7e984e1b8c3f>:1: SettingWithCopyWarning: \n",
      "A value is trying to be set on a copy of a slice from a DataFrame.\n",
      "Try using .loc[row_indexer,col_indexer] = value instead\n",
      "\n",
      "See the caveats in the documentation: https://pandas.pydata.org/pandas-docs/stable/user_guide/indexing.html#returning-a-view-versus-a-copy\n",
      "  data[\"price\"] = data[\"price\"].replace({\"£\":\"\",\",\":\"\"},regex=True).astype(\"float\")\n"
     ]
    }
   ],
   "source": [
    "data[\"price\"] = data[\"price\"].replace({\"£\":\"\",\",\":\"\"},regex=True).astype(\"float\")"
   ]
  },
  {
   "cell_type": "code",
   "execution_count": 22,
   "id": "4ecedbe3",
   "metadata": {
    "execution": {
     "iopub.execute_input": "2024-12-30T22:51:22.684896Z",
     "iopub.status.busy": "2024-12-30T22:51:22.684547Z",
     "iopub.status.idle": "2024-12-30T22:51:22.699229Z",
     "shell.execute_reply": "2024-12-30T22:51:22.698161Z"
    },
    "papermill": {
     "duration": 0.024264,
     "end_time": "2024-12-30T22:51:22.700962",
     "exception": false,
     "start_time": "2024-12-30T22:51:22.676698",
     "status": "completed"
    },
    "tags": []
   },
   "outputs": [],
   "source": [
    "data = data[data[\"mileage\"] != \"Unknown\"]\n",
    "data.loc[:, \"mileage\"]  = data[\"mileage\"].replace({\",\":\"\"},regex=True).astype(\"float\")"
   ]
  },
  {
   "cell_type": "code",
   "execution_count": 23,
   "id": "496601bf",
   "metadata": {
    "execution": {
     "iopub.execute_input": "2024-12-30T22:51:22.716569Z",
     "iopub.status.busy": "2024-12-30T22:51:22.716070Z",
     "iopub.status.idle": "2024-12-30T22:51:22.730441Z",
     "shell.execute_reply": "2024-12-30T22:51:22.729325Z"
    },
    "papermill": {
     "duration": 0.024562,
     "end_time": "2024-12-30T22:51:22.732540",
     "exception": false,
     "start_time": "2024-12-30T22:51:22.707978",
     "status": "completed"
    },
    "tags": []
   },
   "outputs": [
    {
     "name": "stdout",
     "output_type": "stream",
     "text": [
      "<class 'pandas.core.frame.DataFrame'>\n",
      "Index: 3803 entries, 10 to 4005\n",
      "Data columns (total 9 columns):\n",
      " #   Column            Non-Null Count  Dtype  \n",
      "---  ------            --------------  -----  \n",
      " 0   model             3803 non-null   object \n",
      " 1   year              3803 non-null   float64\n",
      " 2   price             3803 non-null   float64\n",
      " 3   transmission      3803 non-null   object \n",
      " 4   mileage           3803 non-null   object \n",
      " 5   road_tax          3803 non-null   float64\n",
      " 6   miles_per_gallon  3803 non-null   float64\n",
      " 7   fuel_type         3803 non-null   object \n",
      " 8   engine_size       3803 non-null   float64\n",
      "dtypes: float64(5), object(4)\n",
      "memory usage: 297.1+ KB\n"
     ]
    }
   ],
   "source": [
    "data.info()"
   ]
  },
  {
   "cell_type": "markdown",
   "id": "542c884a",
   "metadata": {
    "papermill": {
     "duration": 0.006828,
     "end_time": "2024-12-30T22:51:22.746804",
     "exception": false,
     "start_time": "2024-12-30T22:51:22.739976",
     "status": "completed"
    },
    "tags": []
   },
   "source": [
    "## Todos\n",
    "find the latest year (max)\n",
    "\n",
    "create a feature age \n",
    "\n",
    "age = max - current_year"
   ]
  }
 ],
 "metadata": {
  "kaggle": {
   "accelerator": "none",
   "dataSources": [
    {
     "datasetId": 750216,
     "sourceId": 1305559,
     "sourceType": "datasetVersion"
    }
   ],
   "dockerImageVersionId": 30822,
   "isGpuEnabled": false,
   "isInternetEnabled": true,
   "language": "python",
   "sourceType": "notebook"
  },
  "kernelspec": {
   "display_name": "Python 3",
   "language": "python",
   "name": "python3"
  },
  "language_info": {
   "codemirror_mode": {
    "name": "ipython",
    "version": 3
   },
   "file_extension": ".py",
   "mimetype": "text/x-python",
   "name": "python",
   "nbconvert_exporter": "python",
   "pygments_lexer": "ipython3",
   "version": "3.10.12"
  },
  "papermill": {
   "default_parameters": {},
   "duration": 3.85623,
   "end_time": "2024-12-30T22:51:23.274914",
   "environment_variables": {},
   "exception": null,
   "input_path": "__notebook__.ipynb",
   "output_path": "__notebook__.ipynb",
   "parameters": {},
   "start_time": "2024-12-30T22:51:19.418684",
   "version": "2.6.0"
  }
 },
 "nbformat": 4,
 "nbformat_minor": 5
}
