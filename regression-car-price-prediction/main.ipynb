{
 "cells": [
  {
   "cell_type": "code",
   "execution_count": 1,
   "id": "3721ddf2",
   "metadata": {
    "_cell_guid": "b1076dfc-b9ad-4769-8c92-a6c4dae69d19",
    "_uuid": "8f2839f25d086af736a60e9eeb907d3b93b6e0e5",
    "execution": {
     "iopub.execute_input": "2024-12-31T13:33:46.637633Z",
     "iopub.status.busy": "2024-12-31T13:33:46.637294Z",
     "iopub.status.idle": "2024-12-31T13:33:47.025017Z",
     "shell.execute_reply": "2024-12-31T13:33:47.023831Z"
    },
    "papermill": {
     "duration": 0.398123,
     "end_time": "2024-12-31T13:33:47.026792",
     "exception": false,
     "start_time": "2024-12-31T13:33:46.628669",
     "status": "completed"
    },
    "tags": []
   },
   "outputs": [
    {
     "name": "stdout",
     "output_type": "stream",
     "text": [
      "/kaggle/input/used-car-dataset-ford-and-mercedes/cclass.csv\n",
      "/kaggle/input/used-car-dataset-ford-and-mercedes/unclean cclass.csv\n",
      "/kaggle/input/used-car-dataset-ford-and-mercedes/focus.csv\n",
      "/kaggle/input/used-car-dataset-ford-and-mercedes/audi.csv\n",
      "/kaggle/input/used-car-dataset-ford-and-mercedes/toyota.csv\n",
      "/kaggle/input/used-car-dataset-ford-and-mercedes/skoda.csv\n",
      "/kaggle/input/used-car-dataset-ford-and-mercedes/ford.csv\n",
      "/kaggle/input/used-car-dataset-ford-and-mercedes/vauxhall.csv\n",
      "/kaggle/input/used-car-dataset-ford-and-mercedes/bmw.csv\n",
      "/kaggle/input/used-car-dataset-ford-and-mercedes/vw.csv\n",
      "/kaggle/input/used-car-dataset-ford-and-mercedes/hyundi.csv\n",
      "/kaggle/input/used-car-dataset-ford-and-mercedes/unclean focus.csv\n",
      "/kaggle/input/used-car-dataset-ford-and-mercedes/merc.csv\n"
     ]
    }
   ],
   "source": [
    "# This Python 3 environment comes with many helpful analytics libraries installed\n",
    "# It is defined by the kaggle/python Docker image: https://github.com/kaggle/docker-python\n",
    "# For example, here's several helpful packages to load\n",
    "\n",
    "import numpy as np # linear algebra\n",
    "import pandas as pd # data processing, CSV file I/O (e.g. pd.read_csv)\n",
    "\n",
    "# Input data files are available in the read-only \"../input/\" directory\n",
    "# For example, running this (by clicking run or pressing Shift+Enter) will list all files under the input directory\n",
    "\n",
    "import os\n",
    "for dirname, _, filenames in os.walk('/kaggle/input'):\n",
    "    for filename in filenames:\n",
    "        print(os.path.join(dirname, filename))\n",
    "\n",
    "# You can write up to 20GB to the current directory (/kaggle/working/) that gets preserved as output when you create a version using \"Save & Run All\" \n",
    "# You can also write temporary files to /kaggle/temp/, but they won't be saved outside of the current session"
   ]
  },
  {
   "cell_type": "code",
   "execution_count": 2,
   "id": "79c8fd98",
   "metadata": {
    "execution": {
     "iopub.execute_input": "2024-12-31T13:33:47.042554Z",
     "iopub.status.busy": "2024-12-31T13:33:47.042074Z",
     "iopub.status.idle": "2024-12-31T13:33:47.098468Z",
     "shell.execute_reply": "2024-12-31T13:33:47.097219Z"
    },
    "papermill": {
     "duration": 0.06609,
     "end_time": "2024-12-31T13:33:47.100239",
     "exception": false,
     "start_time": "2024-12-31T13:33:47.034149",
     "status": "completed"
    },
    "tags": []
   },
   "outputs": [
    {
     "data": {
      "text/html": [
       "<div>\n",
       "<style scoped>\n",
       "    .dataframe tbody tr th:only-of-type {\n",
       "        vertical-align: middle;\n",
       "    }\n",
       "\n",
       "    .dataframe tbody tr th {\n",
       "        vertical-align: top;\n",
       "    }\n",
       "\n",
       "    .dataframe thead th {\n",
       "        text-align: right;\n",
       "    }\n",
       "</style>\n",
       "<table border=\"1\" class=\"dataframe\">\n",
       "  <thead>\n",
       "    <tr style=\"text-align: right;\">\n",
       "      <th></th>\n",
       "      <th>model</th>\n",
       "      <th>year</th>\n",
       "      <th>price</th>\n",
       "      <th>transmission</th>\n",
       "      <th>mileage</th>\n",
       "      <th>fuel type</th>\n",
       "      <th>engine size</th>\n",
       "      <th>mileage2</th>\n",
       "      <th>fuel type2</th>\n",
       "      <th>engine size2</th>\n",
       "      <th>reference</th>\n",
       "    </tr>\n",
       "  </thead>\n",
       "  <tbody>\n",
       "    <tr>\n",
       "      <th>0</th>\n",
       "      <td>C Class</td>\n",
       "      <td>2020.0</td>\n",
       "      <td>£30,495</td>\n",
       "      <td>Automatic</td>\n",
       "      <td>NaN</td>\n",
       "      <td>Diesel</td>\n",
       "      <td>2</td>\n",
       "      <td>1,200</td>\n",
       "      <td>NaN</td>\n",
       "      <td>NaN</td>\n",
       "      <td>/ad/25017331</td>\n",
       "    </tr>\n",
       "    <tr>\n",
       "      <th>1</th>\n",
       "      <td>C Class</td>\n",
       "      <td>2020.0</td>\n",
       "      <td>£29,989</td>\n",
       "      <td>Automatic</td>\n",
       "      <td>NaN</td>\n",
       "      <td>Petrol</td>\n",
       "      <td>1.5</td>\n",
       "      <td>1,000</td>\n",
       "      <td>NaN</td>\n",
       "      <td>NaN</td>\n",
       "      <td>/ad/25043746</td>\n",
       "    </tr>\n",
       "    <tr>\n",
       "      <th>2</th>\n",
       "      <td>C Class</td>\n",
       "      <td>2020.0</td>\n",
       "      <td>£37,899</td>\n",
       "      <td>Automatic</td>\n",
       "      <td>NaN</td>\n",
       "      <td>Diesel</td>\n",
       "      <td>2</td>\n",
       "      <td>500</td>\n",
       "      <td>NaN</td>\n",
       "      <td>NaN</td>\n",
       "      <td>/ad/25142894</td>\n",
       "    </tr>\n",
       "    <tr>\n",
       "      <th>3</th>\n",
       "      <td>C Class</td>\n",
       "      <td>2019.0</td>\n",
       "      <td>£30,399</td>\n",
       "      <td>Automatic</td>\n",
       "      <td>NaN</td>\n",
       "      <td>Diesel</td>\n",
       "      <td>2</td>\n",
       "      <td>5,000</td>\n",
       "      <td>NaN</td>\n",
       "      <td>NaN</td>\n",
       "      <td>/ad/24942816</td>\n",
       "    </tr>\n",
       "    <tr>\n",
       "      <th>4</th>\n",
       "      <td>C Class</td>\n",
       "      <td>2019.0</td>\n",
       "      <td>£29,899</td>\n",
       "      <td>Automatic</td>\n",
       "      <td>NaN</td>\n",
       "      <td>Diesel</td>\n",
       "      <td>2</td>\n",
       "      <td>4,500</td>\n",
       "      <td>NaN</td>\n",
       "      <td>NaN</td>\n",
       "      <td>/ad/24913660</td>\n",
       "    </tr>\n",
       "    <tr>\n",
       "      <th>...</th>\n",
       "      <td>...</td>\n",
       "      <td>...</td>\n",
       "      <td>...</td>\n",
       "      <td>...</td>\n",
       "      <td>...</td>\n",
       "      <td>...</td>\n",
       "      <td>...</td>\n",
       "      <td>...</td>\n",
       "      <td>...</td>\n",
       "      <td>...</td>\n",
       "      <td>...</td>\n",
       "    </tr>\n",
       "    <tr>\n",
       "      <th>4001</th>\n",
       "      <td>C Class</td>\n",
       "      <td>2017.0</td>\n",
       "      <td>£14,700</td>\n",
       "      <td>Manual</td>\n",
       "      <td>31,357</td>\n",
       "      <td>25</td>\n",
       "      <td>£150</td>\n",
       "      <td>70.6</td>\n",
       "      <td>Diesel</td>\n",
       "      <td>1.598</td>\n",
       "      <td>/ad/25451436</td>\n",
       "    </tr>\n",
       "    <tr>\n",
       "      <th>4002</th>\n",
       "      <td>C Class</td>\n",
       "      <td>2018.0</td>\n",
       "      <td>£18,500</td>\n",
       "      <td>Automatic</td>\n",
       "      <td>28,248</td>\n",
       "      <td>31</td>\n",
       "      <td>£150</td>\n",
       "      <td>64.2</td>\n",
       "      <td>Diesel</td>\n",
       "      <td>2.143</td>\n",
       "      <td>/ad/25451481</td>\n",
       "    </tr>\n",
       "    <tr>\n",
       "      <th>4003</th>\n",
       "      <td>C Class</td>\n",
       "      <td>2014.0</td>\n",
       "      <td>£11,900</td>\n",
       "      <td>Manual</td>\n",
       "      <td>48,055</td>\n",
       "      <td>31</td>\n",
       "      <td>£20</td>\n",
       "      <td>65.7</td>\n",
       "      <td>Diesel</td>\n",
       "      <td>2.143</td>\n",
       "      <td>/ad/25057204</td>\n",
       "    </tr>\n",
       "    <tr>\n",
       "      <th>4004</th>\n",
       "      <td>C Class</td>\n",
       "      <td>2014.0</td>\n",
       "      <td>£11,300</td>\n",
       "      <td>Automatic</td>\n",
       "      <td>49,865</td>\n",
       "      <td>46</td>\n",
       "      <td>£145</td>\n",
       "      <td>56.5</td>\n",
       "      <td>Diesel</td>\n",
       "      <td>2.143</td>\n",
       "      <td>/ad/25144481</td>\n",
       "    </tr>\n",
       "    <tr>\n",
       "      <th>4005</th>\n",
       "      <td>C Class</td>\n",
       "      <td>2014.0</td>\n",
       "      <td>£14,800</td>\n",
       "      <td>Automatic</td>\n",
       "      <td>55,445</td>\n",
       "      <td>37</td>\n",
       "      <td>£30</td>\n",
       "      <td>64.2</td>\n",
       "      <td>Diesel</td>\n",
       "      <td>2.143</td>\n",
       "      <td>/ad/25154247</td>\n",
       "    </tr>\n",
       "  </tbody>\n",
       "</table>\n",
       "<p>4006 rows × 11 columns</p>\n",
       "</div>"
      ],
      "text/plain": [
       "         model    year     price transmission mileage fuel type engine size  \\\n",
       "0      C Class  2020.0   £30,495    Automatic     NaN    Diesel           2   \n",
       "1      C Class  2020.0   £29,989    Automatic     NaN    Petrol         1.5   \n",
       "2      C Class  2020.0   £37,899    Automatic     NaN    Diesel           2   \n",
       "3      C Class  2019.0   £30,399    Automatic     NaN    Diesel           2   \n",
       "4      C Class  2019.0   £29,899    Automatic     NaN    Diesel           2   \n",
       "...        ...     ...       ...          ...     ...       ...         ...   \n",
       "4001   C Class  2017.0   £14,700       Manual  31,357        25        £150   \n",
       "4002   C Class  2018.0   £18,500    Automatic  28,248        31        £150   \n",
       "4003   C Class  2014.0   £11,900       Manual  48,055        31         £20   \n",
       "4004   C Class  2014.0   £11,300    Automatic  49,865        46        £145   \n",
       "4005   C Class  2014.0   £14,800    Automatic  55,445        37         £30   \n",
       "\n",
       "     mileage2 fuel type2 engine size2     reference  \n",
       "0       1,200        NaN          NaN  /ad/25017331  \n",
       "1       1,000        NaN          NaN  /ad/25043746  \n",
       "2         500        NaN          NaN  /ad/25142894  \n",
       "3       5,000        NaN          NaN  /ad/24942816  \n",
       "4       4,500        NaN          NaN  /ad/24913660  \n",
       "...       ...        ...          ...           ...  \n",
       "4001     70.6     Diesel        1.598  /ad/25451436  \n",
       "4002     64.2     Diesel        2.143  /ad/25451481  \n",
       "4003     65.7     Diesel        2.143  /ad/25057204  \n",
       "4004     56.5     Diesel        2.143  /ad/25144481  \n",
       "4005     64.2     Diesel        2.143  /ad/25154247  \n",
       "\n",
       "[4006 rows x 11 columns]"
      ]
     },
     "execution_count": 2,
     "metadata": {},
     "output_type": "execute_result"
    }
   ],
   "source": [
    "data = pd.read_csv('/kaggle/input/used-car-dataset-ford-and-mercedes/unclean cclass.csv')\n",
    "data"
   ]
  },
  {
   "cell_type": "code",
   "execution_count": 3,
   "id": "9535d05a",
   "metadata": {
    "execution": {
     "iopub.execute_input": "2024-12-31T13:33:47.116357Z",
     "iopub.status.busy": "2024-12-31T13:33:47.115919Z",
     "iopub.status.idle": "2024-12-31T13:33:47.143280Z",
     "shell.execute_reply": "2024-12-31T13:33:47.141920Z"
    },
    "papermill": {
     "duration": 0.037087,
     "end_time": "2024-12-31T13:33:47.144887",
     "exception": false,
     "start_time": "2024-12-31T13:33:47.107800",
     "status": "completed"
    },
    "tags": []
   },
   "outputs": [
    {
     "name": "stdout",
     "output_type": "stream",
     "text": [
      "<class 'pandas.core.frame.DataFrame'>\n",
      "RangeIndex: 4006 entries, 0 to 4005\n",
      "Data columns (total 11 columns):\n",
      " #   Column        Non-Null Count  Dtype  \n",
      "---  ------        --------------  -----  \n",
      " 0   model         3907 non-null   object \n",
      " 1   year          3904 non-null   float64\n",
      " 2   price         3907 non-null   object \n",
      " 3   transmission  3907 non-null   object \n",
      " 4   mileage       3808 non-null   object \n",
      " 5   fuel type     1329 non-null   object \n",
      " 6   engine size   3842 non-null   object \n",
      " 7   mileage2      3890 non-null   object \n",
      " 8   fuel type2    3808 non-null   object \n",
      " 9   engine size2  3808 non-null   object \n",
      " 10  reference     3907 non-null   object \n",
      "dtypes: float64(1), object(10)\n",
      "memory usage: 344.4+ KB\n"
     ]
    }
   ],
   "source": [
    "data.info()"
   ]
  },
  {
   "cell_type": "code",
   "execution_count": 4,
   "id": "b804af9a",
   "metadata": {
    "execution": {
     "iopub.execute_input": "2024-12-31T13:33:47.161743Z",
     "iopub.status.busy": "2024-12-31T13:33:47.161392Z",
     "iopub.status.idle": "2024-12-31T13:33:47.177401Z",
     "shell.execute_reply": "2024-12-31T13:33:47.176039Z"
    },
    "papermill": {
     "duration": 0.026573,
     "end_time": "2024-12-31T13:33:47.179284",
     "exception": false,
     "start_time": "2024-12-31T13:33:47.152711",
     "status": "completed"
    },
    "tags": []
   },
   "outputs": [
    {
     "name": "stdout",
     "output_type": "stream",
     "text": [
      "<class 'pandas.core.frame.DataFrame'>\n",
      "RangeIndex: 4006 entries, 0 to 4005\n",
      "Data columns (total 10 columns):\n",
      " #   Column        Non-Null Count  Dtype  \n",
      "---  ------        --------------  -----  \n",
      " 0   model         3907 non-null   object \n",
      " 1   year          3904 non-null   float64\n",
      " 2   price         3907 non-null   object \n",
      " 3   transmission  3907 non-null   object \n",
      " 4   mileage       3808 non-null   object \n",
      " 5   fuel type     1329 non-null   object \n",
      " 6   engine size   3842 non-null   object \n",
      " 7   mileage2      3890 non-null   object \n",
      " 8   fuel type2    3808 non-null   object \n",
      " 9   engine size2  3808 non-null   object \n",
      "dtypes: float64(1), object(9)\n",
      "memory usage: 313.1+ KB\n",
      "None\n"
     ]
    }
   ],
   "source": [
    "data = data.drop([\"reference\"], axis=1)\n",
    "print(data.info())"
   ]
  },
  {
   "cell_type": "code",
   "execution_count": 5,
   "id": "3dba7a40",
   "metadata": {
    "execution": {
     "iopub.execute_input": "2024-12-31T13:33:47.195554Z",
     "iopub.status.busy": "2024-12-31T13:33:47.195202Z",
     "iopub.status.idle": "2024-12-31T13:33:47.203722Z",
     "shell.execute_reply": "2024-12-31T13:33:47.202720Z"
    },
    "papermill": {
     "duration": 0.019004,
     "end_time": "2024-12-31T13:33:47.205775",
     "exception": false,
     "start_time": "2024-12-31T13:33:47.186771",
     "status": "completed"
    },
    "tags": []
   },
   "outputs": [],
   "source": [
    "data.dropna(subset=['mileage'],inplace=True)"
   ]
  },
  {
   "cell_type": "code",
   "execution_count": 6,
   "id": "d25ef4fa",
   "metadata": {
    "execution": {
     "iopub.execute_input": "2024-12-31T13:33:47.222380Z",
     "iopub.status.busy": "2024-12-31T13:33:47.222005Z",
     "iopub.status.idle": "2024-12-31T13:33:47.233664Z",
     "shell.execute_reply": "2024-12-31T13:33:47.232473Z"
    },
    "papermill": {
     "duration": 0.02186,
     "end_time": "2024-12-31T13:33:47.235549",
     "exception": false,
     "start_time": "2024-12-31T13:33:47.213689",
     "status": "completed"
    },
    "tags": []
   },
   "outputs": [
    {
     "name": "stdout",
     "output_type": "stream",
     "text": [
      "<class 'pandas.core.frame.DataFrame'>\n",
      "Index: 3808 entries, 10 to 4005\n",
      "Data columns (total 10 columns):\n",
      " #   Column        Non-Null Count  Dtype  \n",
      "---  ------        --------------  -----  \n",
      " 0   model         3808 non-null   object \n",
      " 1   year          3807 non-null   float64\n",
      " 2   price         3808 non-null   object \n",
      " 3   transmission  3808 non-null   object \n",
      " 4   mileage       3808 non-null   object \n",
      " 5   fuel type     1230 non-null   object \n",
      " 6   engine size   3743 non-null   object \n",
      " 7   mileage2      3791 non-null   object \n",
      " 8   fuel type2    3808 non-null   object \n",
      " 9   engine size2  3808 non-null   object \n",
      "dtypes: float64(1), object(9)\n",
      "memory usage: 327.2+ KB\n"
     ]
    }
   ],
   "source": [
    "data.info()"
   ]
  },
  {
   "cell_type": "code",
   "execution_count": 7,
   "id": "9b075e6e",
   "metadata": {
    "execution": {
     "iopub.execute_input": "2024-12-31T13:33:47.252076Z",
     "iopub.status.busy": "2024-12-31T13:33:47.251684Z",
     "iopub.status.idle": "2024-12-31T13:33:47.271193Z",
     "shell.execute_reply": "2024-12-31T13:33:47.270075Z"
    },
    "papermill": {
     "duration": 0.029889,
     "end_time": "2024-12-31T13:33:47.273201",
     "exception": false,
     "start_time": "2024-12-31T13:33:47.243312",
     "status": "completed"
    },
    "tags": []
   },
   "outputs": [],
   "source": [
    "data.rename(columns={'engine size':'road_tax'},inplace=True)\n",
    "data[\"road_tax\"].fillna(data[\"road_tax\"].mode(), inplace=True)\n",
    "data[\"road_tax\"] = data[\"road_tax\"].replace({'£':''}, regex=True).astype(\"float\")\n",
    "data[\"road_tax\"].fillna(data[\"road_tax\"].median(),inplace=True)"
   ]
  },
  {
   "cell_type": "code",
   "execution_count": 8,
   "id": "992b4511",
   "metadata": {
    "execution": {
     "iopub.execute_input": "2024-12-31T13:33:47.289571Z",
     "iopub.status.busy": "2024-12-31T13:33:47.289199Z",
     "iopub.status.idle": "2024-12-31T13:33:47.301501Z",
     "shell.execute_reply": "2024-12-31T13:33:47.300254Z"
    },
    "papermill": {
     "duration": 0.022171,
     "end_time": "2024-12-31T13:33:47.303056",
     "exception": false,
     "start_time": "2024-12-31T13:33:47.280885",
     "status": "completed"
    },
    "tags": []
   },
   "outputs": [
    {
     "name": "stdout",
     "output_type": "stream",
     "text": [
      "<class 'pandas.core.frame.DataFrame'>\n",
      "Index: 3808 entries, 10 to 4005\n",
      "Data columns (total 10 columns):\n",
      " #   Column        Non-Null Count  Dtype  \n",
      "---  ------        --------------  -----  \n",
      " 0   model         3808 non-null   object \n",
      " 1   year          3807 non-null   float64\n",
      " 2   price         3808 non-null   object \n",
      " 3   transmission  3808 non-null   object \n",
      " 4   mileage       3808 non-null   object \n",
      " 5   fuel type     1230 non-null   object \n",
      " 6   road_tax      3808 non-null   float64\n",
      " 7   mileage2      3791 non-null   object \n",
      " 8   fuel type2    3808 non-null   object \n",
      " 9   engine size2  3808 non-null   object \n",
      "dtypes: float64(2), object(8)\n",
      "memory usage: 327.2+ KB\n"
     ]
    }
   ],
   "source": [
    "data.info()"
   ]
  },
  {
   "cell_type": "code",
   "execution_count": 9,
   "id": "7e03a237",
   "metadata": {
    "execution": {
     "iopub.execute_input": "2024-12-31T13:33:47.319452Z",
     "iopub.status.busy": "2024-12-31T13:33:47.319088Z",
     "iopub.status.idle": "2024-12-31T13:33:47.335662Z",
     "shell.execute_reply": "2024-12-31T13:33:47.334631Z"
    },
    "papermill": {
     "duration": 0.02666,
     "end_time": "2024-12-31T13:33:47.337316",
     "exception": false,
     "start_time": "2024-12-31T13:33:47.310656",
     "status": "completed"
    },
    "tags": []
   },
   "outputs": [
    {
     "data": {
      "text/html": [
       "<div>\n",
       "<style scoped>\n",
       "    .dataframe tbody tr th:only-of-type {\n",
       "        vertical-align: middle;\n",
       "    }\n",
       "\n",
       "    .dataframe tbody tr th {\n",
       "        vertical-align: top;\n",
       "    }\n",
       "\n",
       "    .dataframe thead th {\n",
       "        text-align: right;\n",
       "    }\n",
       "</style>\n",
       "<table border=\"1\" class=\"dataframe\">\n",
       "  <thead>\n",
       "    <tr style=\"text-align: right;\">\n",
       "      <th></th>\n",
       "      <th>model</th>\n",
       "      <th>year</th>\n",
       "      <th>price</th>\n",
       "      <th>transmission</th>\n",
       "      <th>mileage</th>\n",
       "      <th>fuel type</th>\n",
       "      <th>road_tax</th>\n",
       "      <th>mileage2</th>\n",
       "      <th>fuel type2</th>\n",
       "      <th>engine size2</th>\n",
       "    </tr>\n",
       "  </thead>\n",
       "  <tbody>\n",
       "    <tr>\n",
       "      <th>10</th>\n",
       "      <td>C Class</td>\n",
       "      <td>2013.0</td>\n",
       "      <td>£9,995</td>\n",
       "      <td>Automatic</td>\n",
       "      <td>44,900</td>\n",
       "      <td>29</td>\n",
       "      <td>160.0</td>\n",
       "      <td>46.3</td>\n",
       "      <td>Petrol</td>\n",
       "      <td>1.6</td>\n",
       "    </tr>\n",
       "    <tr>\n",
       "      <th>11</th>\n",
       "      <td>C Class</td>\n",
       "      <td>2012.0</td>\n",
       "      <td>£6,995</td>\n",
       "      <td>Automatic</td>\n",
       "      <td>88,200</td>\n",
       "      <td>34</td>\n",
       "      <td>125.0</td>\n",
       "      <td>58.9</td>\n",
       "      <td>Diesel</td>\n",
       "      <td>2.1</td>\n",
       "    </tr>\n",
       "    <tr>\n",
       "      <th>12</th>\n",
       "      <td>C Class</td>\n",
       "      <td>2012.0</td>\n",
       "      <td>£7,495</td>\n",
       "      <td>Automatic</td>\n",
       "      <td>115,000</td>\n",
       "      <td>37</td>\n",
       "      <td>145.0</td>\n",
       "      <td>54.3</td>\n",
       "      <td>Diesel</td>\n",
       "      <td>2.1</td>\n",
       "    </tr>\n",
       "    <tr>\n",
       "      <th>13</th>\n",
       "      <td>C Class</td>\n",
       "      <td>2011.0</td>\n",
       "      <td>£8,995</td>\n",
       "      <td>Automatic</td>\n",
       "      <td>69,250</td>\n",
       "      <td>29</td>\n",
       "      <td>150.0</td>\n",
       "      <td>53.3</td>\n",
       "      <td>Diesel</td>\n",
       "      <td>2.1</td>\n",
       "    </tr>\n",
       "    <tr>\n",
       "      <th>14</th>\n",
       "      <td>C Class</td>\n",
       "      <td>2015.0</td>\n",
       "      <td>£14,995</td>\n",
       "      <td>Automatic</td>\n",
       "      <td>49,850</td>\n",
       "      <td>31</td>\n",
       "      <td>30.0</td>\n",
       "      <td>62.8</td>\n",
       "      <td>Diesel</td>\n",
       "      <td>2.1</td>\n",
       "    </tr>\n",
       "    <tr>\n",
       "      <th>...</th>\n",
       "      <td>...</td>\n",
       "      <td>...</td>\n",
       "      <td>...</td>\n",
       "      <td>...</td>\n",
       "      <td>...</td>\n",
       "      <td>...</td>\n",
       "      <td>...</td>\n",
       "      <td>...</td>\n",
       "      <td>...</td>\n",
       "      <td>...</td>\n",
       "    </tr>\n",
       "    <tr>\n",
       "      <th>4001</th>\n",
       "      <td>C Class</td>\n",
       "      <td>2017.0</td>\n",
       "      <td>£14,700</td>\n",
       "      <td>Manual</td>\n",
       "      <td>31,357</td>\n",
       "      <td>25</td>\n",
       "      <td>150.0</td>\n",
       "      <td>70.6</td>\n",
       "      <td>Diesel</td>\n",
       "      <td>1.598</td>\n",
       "    </tr>\n",
       "    <tr>\n",
       "      <th>4002</th>\n",
       "      <td>C Class</td>\n",
       "      <td>2018.0</td>\n",
       "      <td>£18,500</td>\n",
       "      <td>Automatic</td>\n",
       "      <td>28,248</td>\n",
       "      <td>31</td>\n",
       "      <td>150.0</td>\n",
       "      <td>64.2</td>\n",
       "      <td>Diesel</td>\n",
       "      <td>2.143</td>\n",
       "    </tr>\n",
       "    <tr>\n",
       "      <th>4003</th>\n",
       "      <td>C Class</td>\n",
       "      <td>2014.0</td>\n",
       "      <td>£11,900</td>\n",
       "      <td>Manual</td>\n",
       "      <td>48,055</td>\n",
       "      <td>31</td>\n",
       "      <td>20.0</td>\n",
       "      <td>65.7</td>\n",
       "      <td>Diesel</td>\n",
       "      <td>2.143</td>\n",
       "    </tr>\n",
       "    <tr>\n",
       "      <th>4004</th>\n",
       "      <td>C Class</td>\n",
       "      <td>2014.0</td>\n",
       "      <td>£11,300</td>\n",
       "      <td>Automatic</td>\n",
       "      <td>49,865</td>\n",
       "      <td>46</td>\n",
       "      <td>145.0</td>\n",
       "      <td>56.5</td>\n",
       "      <td>Diesel</td>\n",
       "      <td>2.143</td>\n",
       "    </tr>\n",
       "    <tr>\n",
       "      <th>4005</th>\n",
       "      <td>C Class</td>\n",
       "      <td>2014.0</td>\n",
       "      <td>£14,800</td>\n",
       "      <td>Automatic</td>\n",
       "      <td>55,445</td>\n",
       "      <td>37</td>\n",
       "      <td>30.0</td>\n",
       "      <td>64.2</td>\n",
       "      <td>Diesel</td>\n",
       "      <td>2.143</td>\n",
       "    </tr>\n",
       "  </tbody>\n",
       "</table>\n",
       "<p>3808 rows × 10 columns</p>\n",
       "</div>"
      ],
      "text/plain": [
       "         model    year     price transmission  mileage fuel type  road_tax  \\\n",
       "10     C Class  2013.0    £9,995    Automatic   44,900        29     160.0   \n",
       "11     C Class  2012.0    £6,995    Automatic   88,200        34     125.0   \n",
       "12     C Class  2012.0    £7,495    Automatic  115,000        37     145.0   \n",
       "13     C Class  2011.0    £8,995    Automatic   69,250        29     150.0   \n",
       "14     C Class  2015.0   £14,995    Automatic   49,850        31      30.0   \n",
       "...        ...     ...       ...          ...      ...       ...       ...   \n",
       "4001   C Class  2017.0   £14,700       Manual   31,357        25     150.0   \n",
       "4002   C Class  2018.0   £18,500    Automatic   28,248        31     150.0   \n",
       "4003   C Class  2014.0   £11,900       Manual   48,055        31      20.0   \n",
       "4004   C Class  2014.0   £11,300    Automatic   49,865        46     145.0   \n",
       "4005   C Class  2014.0   £14,800    Automatic   55,445        37      30.0   \n",
       "\n",
       "     mileage2 fuel type2 engine size2  \n",
       "10       46.3     Petrol          1.6  \n",
       "11       58.9     Diesel          2.1  \n",
       "12       54.3     Diesel          2.1  \n",
       "13       53.3     Diesel          2.1  \n",
       "14       62.8     Diesel          2.1  \n",
       "...       ...        ...          ...  \n",
       "4001     70.6     Diesel        1.598  \n",
       "4002     64.2     Diesel        2.143  \n",
       "4003     65.7     Diesel        2.143  \n",
       "4004     56.5     Diesel        2.143  \n",
       "4005     64.2     Diesel        2.143  \n",
       "\n",
       "[3808 rows x 10 columns]"
      ]
     },
     "execution_count": 9,
     "metadata": {},
     "output_type": "execute_result"
    }
   ],
   "source": [
    "data"
   ]
  },
  {
   "cell_type": "code",
   "execution_count": 10,
   "id": "aee76e0e",
   "metadata": {
    "execution": {
     "iopub.execute_input": "2024-12-31T13:33:47.354635Z",
     "iopub.status.busy": "2024-12-31T13:33:47.354274Z",
     "iopub.status.idle": "2024-12-31T13:33:47.361943Z",
     "shell.execute_reply": "2024-12-31T13:33:47.360900Z"
    },
    "papermill": {
     "duration": 0.018023,
     "end_time": "2024-12-31T13:33:47.363633",
     "exception": false,
     "start_time": "2024-12-31T13:33:47.345610",
     "status": "completed"
    },
    "tags": []
   },
   "outputs": [],
   "source": [
    "data.rename(columns={'mileage2':'miles_per_gallon'}, inplace=True)\n",
    "data[\"miles_per_gallon\"] = data[\"miles_per_gallon\"].astype(\"float\")\n",
    "data[\"miles_per_gallon\"].fillna(data[\"miles_per_gallon\"].median(),inplace=True)"
   ]
  },
  {
   "cell_type": "code",
   "execution_count": 11,
   "id": "762398c9",
   "metadata": {
    "execution": {
     "iopub.execute_input": "2024-12-31T13:33:47.380607Z",
     "iopub.status.busy": "2024-12-31T13:33:47.380241Z",
     "iopub.status.idle": "2024-12-31T13:33:47.397850Z",
     "shell.execute_reply": "2024-12-31T13:33:47.396868Z"
    },
    "papermill": {
     "duration": 0.027976,
     "end_time": "2024-12-31T13:33:47.399517",
     "exception": false,
     "start_time": "2024-12-31T13:33:47.371541",
     "status": "completed"
    },
    "tags": []
   },
   "outputs": [
    {
     "data": {
      "text/html": [
       "<div>\n",
       "<style scoped>\n",
       "    .dataframe tbody tr th:only-of-type {\n",
       "        vertical-align: middle;\n",
       "    }\n",
       "\n",
       "    .dataframe tbody tr th {\n",
       "        vertical-align: top;\n",
       "    }\n",
       "\n",
       "    .dataframe thead th {\n",
       "        text-align: right;\n",
       "    }\n",
       "</style>\n",
       "<table border=\"1\" class=\"dataframe\">\n",
       "  <thead>\n",
       "    <tr style=\"text-align: right;\">\n",
       "      <th></th>\n",
       "      <th>model</th>\n",
       "      <th>year</th>\n",
       "      <th>price</th>\n",
       "      <th>transmission</th>\n",
       "      <th>mileage</th>\n",
       "      <th>fuel type</th>\n",
       "      <th>road_tax</th>\n",
       "      <th>miles_per_gallon</th>\n",
       "      <th>fuel type2</th>\n",
       "      <th>engine size2</th>\n",
       "    </tr>\n",
       "  </thead>\n",
       "  <tbody>\n",
       "    <tr>\n",
       "      <th>10</th>\n",
       "      <td>C Class</td>\n",
       "      <td>2013.0</td>\n",
       "      <td>£9,995</td>\n",
       "      <td>Automatic</td>\n",
       "      <td>44,900</td>\n",
       "      <td>29</td>\n",
       "      <td>160.0</td>\n",
       "      <td>46.3</td>\n",
       "      <td>Petrol</td>\n",
       "      <td>1.6</td>\n",
       "    </tr>\n",
       "    <tr>\n",
       "      <th>11</th>\n",
       "      <td>C Class</td>\n",
       "      <td>2012.0</td>\n",
       "      <td>£6,995</td>\n",
       "      <td>Automatic</td>\n",
       "      <td>88,200</td>\n",
       "      <td>34</td>\n",
       "      <td>125.0</td>\n",
       "      <td>58.9</td>\n",
       "      <td>Diesel</td>\n",
       "      <td>2.1</td>\n",
       "    </tr>\n",
       "    <tr>\n",
       "      <th>12</th>\n",
       "      <td>C Class</td>\n",
       "      <td>2012.0</td>\n",
       "      <td>£7,495</td>\n",
       "      <td>Automatic</td>\n",
       "      <td>115,000</td>\n",
       "      <td>37</td>\n",
       "      <td>145.0</td>\n",
       "      <td>54.3</td>\n",
       "      <td>Diesel</td>\n",
       "      <td>2.1</td>\n",
       "    </tr>\n",
       "    <tr>\n",
       "      <th>13</th>\n",
       "      <td>C Class</td>\n",
       "      <td>2011.0</td>\n",
       "      <td>£8,995</td>\n",
       "      <td>Automatic</td>\n",
       "      <td>69,250</td>\n",
       "      <td>29</td>\n",
       "      <td>150.0</td>\n",
       "      <td>53.3</td>\n",
       "      <td>Diesel</td>\n",
       "      <td>2.1</td>\n",
       "    </tr>\n",
       "    <tr>\n",
       "      <th>14</th>\n",
       "      <td>C Class</td>\n",
       "      <td>2015.0</td>\n",
       "      <td>£14,995</td>\n",
       "      <td>Automatic</td>\n",
       "      <td>49,850</td>\n",
       "      <td>31</td>\n",
       "      <td>30.0</td>\n",
       "      <td>62.8</td>\n",
       "      <td>Diesel</td>\n",
       "      <td>2.1</td>\n",
       "    </tr>\n",
       "    <tr>\n",
       "      <th>...</th>\n",
       "      <td>...</td>\n",
       "      <td>...</td>\n",
       "      <td>...</td>\n",
       "      <td>...</td>\n",
       "      <td>...</td>\n",
       "      <td>...</td>\n",
       "      <td>...</td>\n",
       "      <td>...</td>\n",
       "      <td>...</td>\n",
       "      <td>...</td>\n",
       "    </tr>\n",
       "    <tr>\n",
       "      <th>4001</th>\n",
       "      <td>C Class</td>\n",
       "      <td>2017.0</td>\n",
       "      <td>£14,700</td>\n",
       "      <td>Manual</td>\n",
       "      <td>31,357</td>\n",
       "      <td>25</td>\n",
       "      <td>150.0</td>\n",
       "      <td>70.6</td>\n",
       "      <td>Diesel</td>\n",
       "      <td>1.598</td>\n",
       "    </tr>\n",
       "    <tr>\n",
       "      <th>4002</th>\n",
       "      <td>C Class</td>\n",
       "      <td>2018.0</td>\n",
       "      <td>£18,500</td>\n",
       "      <td>Automatic</td>\n",
       "      <td>28,248</td>\n",
       "      <td>31</td>\n",
       "      <td>150.0</td>\n",
       "      <td>64.2</td>\n",
       "      <td>Diesel</td>\n",
       "      <td>2.143</td>\n",
       "    </tr>\n",
       "    <tr>\n",
       "      <th>4003</th>\n",
       "      <td>C Class</td>\n",
       "      <td>2014.0</td>\n",
       "      <td>£11,900</td>\n",
       "      <td>Manual</td>\n",
       "      <td>48,055</td>\n",
       "      <td>31</td>\n",
       "      <td>20.0</td>\n",
       "      <td>65.7</td>\n",
       "      <td>Diesel</td>\n",
       "      <td>2.143</td>\n",
       "    </tr>\n",
       "    <tr>\n",
       "      <th>4004</th>\n",
       "      <td>C Class</td>\n",
       "      <td>2014.0</td>\n",
       "      <td>£11,300</td>\n",
       "      <td>Automatic</td>\n",
       "      <td>49,865</td>\n",
       "      <td>46</td>\n",
       "      <td>145.0</td>\n",
       "      <td>56.5</td>\n",
       "      <td>Diesel</td>\n",
       "      <td>2.143</td>\n",
       "    </tr>\n",
       "    <tr>\n",
       "      <th>4005</th>\n",
       "      <td>C Class</td>\n",
       "      <td>2014.0</td>\n",
       "      <td>£14,800</td>\n",
       "      <td>Automatic</td>\n",
       "      <td>55,445</td>\n",
       "      <td>37</td>\n",
       "      <td>30.0</td>\n",
       "      <td>64.2</td>\n",
       "      <td>Diesel</td>\n",
       "      <td>2.143</td>\n",
       "    </tr>\n",
       "  </tbody>\n",
       "</table>\n",
       "<p>3808 rows × 10 columns</p>\n",
       "</div>"
      ],
      "text/plain": [
       "         model    year     price transmission  mileage fuel type  road_tax  \\\n",
       "10     C Class  2013.0    £9,995    Automatic   44,900        29     160.0   \n",
       "11     C Class  2012.0    £6,995    Automatic   88,200        34     125.0   \n",
       "12     C Class  2012.0    £7,495    Automatic  115,000        37     145.0   \n",
       "13     C Class  2011.0    £8,995    Automatic   69,250        29     150.0   \n",
       "14     C Class  2015.0   £14,995    Automatic   49,850        31      30.0   \n",
       "...        ...     ...       ...          ...      ...       ...       ...   \n",
       "4001   C Class  2017.0   £14,700       Manual   31,357        25     150.0   \n",
       "4002   C Class  2018.0   £18,500    Automatic   28,248        31     150.0   \n",
       "4003   C Class  2014.0   £11,900       Manual   48,055        31      20.0   \n",
       "4004   C Class  2014.0   £11,300    Automatic   49,865        46     145.0   \n",
       "4005   C Class  2014.0   £14,800    Automatic   55,445        37      30.0   \n",
       "\n",
       "      miles_per_gallon fuel type2 engine size2  \n",
       "10                46.3     Petrol          1.6  \n",
       "11                58.9     Diesel          2.1  \n",
       "12                54.3     Diesel          2.1  \n",
       "13                53.3     Diesel          2.1  \n",
       "14                62.8     Diesel          2.1  \n",
       "...                ...        ...          ...  \n",
       "4001              70.6     Diesel        1.598  \n",
       "4002              64.2     Diesel        2.143  \n",
       "4003              65.7     Diesel        2.143  \n",
       "4004              56.5     Diesel        2.143  \n",
       "4005              64.2     Diesel        2.143  \n",
       "\n",
       "[3808 rows x 10 columns]"
      ]
     },
     "execution_count": 11,
     "metadata": {},
     "output_type": "execute_result"
    }
   ],
   "source": [
    "data"
   ]
  },
  {
   "cell_type": "code",
   "execution_count": 12,
   "id": "3ba83d7b",
   "metadata": {
    "execution": {
     "iopub.execute_input": "2024-12-31T13:33:47.417097Z",
     "iopub.status.busy": "2024-12-31T13:33:47.416689Z",
     "iopub.status.idle": "2024-12-31T13:33:47.422307Z",
     "shell.execute_reply": "2024-12-31T13:33:47.421337Z"
    },
    "papermill": {
     "duration": 0.016137,
     "end_time": "2024-12-31T13:33:47.423915",
     "exception": false,
     "start_time": "2024-12-31T13:33:47.407778",
     "status": "completed"
    },
    "tags": []
   },
   "outputs": [],
   "source": [
    "data.drop([\"fuel type\"],axis=1,inplace=True)"
   ]
  },
  {
   "cell_type": "code",
   "execution_count": 13,
   "id": "ddfd0716",
   "metadata": {
    "execution": {
     "iopub.execute_input": "2024-12-31T13:33:47.442425Z",
     "iopub.status.busy": "2024-12-31T13:33:47.442058Z",
     "iopub.status.idle": "2024-12-31T13:33:47.454473Z",
     "shell.execute_reply": "2024-12-31T13:33:47.453246Z"
    },
    "papermill": {
     "duration": 0.023234,
     "end_time": "2024-12-31T13:33:47.456158",
     "exception": false,
     "start_time": "2024-12-31T13:33:47.432924",
     "status": "completed"
    },
    "tags": []
   },
   "outputs": [
    {
     "name": "stdout",
     "output_type": "stream",
     "text": [
      "<class 'pandas.core.frame.DataFrame'>\n",
      "Index: 3808 entries, 10 to 4005\n",
      "Data columns (total 9 columns):\n",
      " #   Column            Non-Null Count  Dtype  \n",
      "---  ------            --------------  -----  \n",
      " 0   model             3808 non-null   object \n",
      " 1   year              3807 non-null   float64\n",
      " 2   price             3808 non-null   object \n",
      " 3   transmission      3808 non-null   object \n",
      " 4   mileage           3808 non-null   object \n",
      " 5   road_tax          3808 non-null   float64\n",
      " 6   miles_per_gallon  3808 non-null   float64\n",
      " 7   fuel type2        3808 non-null   object \n",
      " 8   engine size2      3808 non-null   object \n",
      "dtypes: float64(3), object(6)\n",
      "memory usage: 297.5+ KB\n"
     ]
    }
   ],
   "source": [
    "data.info()"
   ]
  },
  {
   "cell_type": "code",
   "execution_count": 14,
   "id": "a3dd0293",
   "metadata": {
    "execution": {
     "iopub.execute_input": "2024-12-31T13:33:47.474040Z",
     "iopub.status.busy": "2024-12-31T13:33:47.473601Z",
     "iopub.status.idle": "2024-12-31T13:33:47.478798Z",
     "shell.execute_reply": "2024-12-31T13:33:47.477775Z"
    },
    "papermill": {
     "duration": 0.015936,
     "end_time": "2024-12-31T13:33:47.480448",
     "exception": false,
     "start_time": "2024-12-31T13:33:47.464512",
     "status": "completed"
    },
    "tags": []
   },
   "outputs": [],
   "source": [
    "data.rename(columns={'fuel type2': 'fuel_type'}, inplace=True)\n",
    "data.rename(columns={'engine size2': 'engine_size'}, inplace=True)"
   ]
  },
  {
   "cell_type": "code",
   "execution_count": 15,
   "id": "4c62c5d6",
   "metadata": {
    "execution": {
     "iopub.execute_input": "2024-12-31T13:33:47.497858Z",
     "iopub.status.busy": "2024-12-31T13:33:47.497495Z",
     "iopub.status.idle": "2024-12-31T13:33:47.505369Z",
     "shell.execute_reply": "2024-12-31T13:33:47.504305Z"
    },
    "papermill": {
     "duration": 0.018396,
     "end_time": "2024-12-31T13:33:47.507091",
     "exception": false,
     "start_time": "2024-12-31T13:33:47.488695",
     "status": "completed"
    },
    "tags": []
   },
   "outputs": [
    {
     "data": {
      "text/plain": [
       "engine_size\n",
       "2          1224\n",
       "2.1         985\n",
       "1.5         546\n",
       "1.6         231\n",
       "2143        174\n",
       "3           155\n",
       "2.143       109\n",
       "4            78\n",
       "1991         56\n",
       "2000         37\n",
       "2100         28\n",
       "1.991        25\n",
       "1950         23\n",
       "1497         17\n",
       "1595         13\n",
       "1.8          11\n",
       "3982         10\n",
       "1796          9\n",
       "6.2           8\n",
       "3000          7\n",
       "1598          6\n",
       "2148          5\n",
       "1597          5\n",
       "1600          5\n",
       "2.14          4\n",
       "1500          4\n",
       "1.598         4\n",
       "2.2           3\n",
       "2996          3\n",
       "1800          2\n",
       "1998          2\n",
       "2145          2\n",
       "2685          1\n",
       "Unknown       1\n",
       "2597          1\n",
       "5439          1\n",
       "2.15          1\n",
       "3498          1\n",
       "1.497         1\n",
       "2987          1\n",
       "2497          1\n",
       "2.7           1\n",
       "4000          1\n",
       "3606          1\n",
       "1461          1\n",
       "0             1\n",
       "2962          1\n",
       "2.996         1\n",
       "6208          1\n",
       "Name: count, dtype: int64"
      ]
     },
     "execution_count": 15,
     "metadata": {},
     "output_type": "execute_result"
    }
   ],
   "source": [
    "data[\"engine_size\"].value_counts()"
   ]
  },
  {
   "cell_type": "code",
   "execution_count": 16,
   "id": "5450f71a",
   "metadata": {
    "execution": {
     "iopub.execute_input": "2024-12-31T13:33:47.525072Z",
     "iopub.status.busy": "2024-12-31T13:33:47.524691Z",
     "iopub.status.idle": "2024-12-31T13:33:47.537985Z",
     "shell.execute_reply": "2024-12-31T13:33:47.536594Z"
    },
    "papermill": {
     "duration": 0.024232,
     "end_time": "2024-12-31T13:33:47.539839",
     "exception": false,
     "start_time": "2024-12-31T13:33:47.515607",
     "status": "completed"
    },
    "tags": []
   },
   "outputs": [
    {
     "name": "stderr",
     "output_type": "stream",
     "text": [
      "<ipython-input-16-2655ea05313f>:2: SettingWithCopyWarning: \n",
      "A value is trying to be set on a copy of a slice from a DataFrame.\n",
      "Try using .loc[row_indexer,col_indexer] = value instead\n",
      "\n",
      "See the caveats in the documentation: https://pandas.pydata.org/pandas-docs/stable/user_guide/indexing.html#returning-a-view-versus-a-copy\n",
      "  data[\"engine_size\"] = data[\"engine_size\"].replace({\",\":\"\"},regex=True)\n",
      "<ipython-input-16-2655ea05313f>:3: SettingWithCopyWarning: \n",
      "A value is trying to be set on a copy of a slice from a DataFrame.\n",
      "Try using .loc[row_indexer,col_indexer] = value instead\n",
      "\n",
      "See the caveats in the documentation: https://pandas.pydata.org/pandas-docs/stable/user_guide/indexing.html#returning-a-view-versus-a-copy\n",
      "  data[\"engine_size\"] = data[\"engine_size\"].astype(\"float\")\n"
     ]
    }
   ],
   "source": [
    "data = data[data[\"engine_size\"]!=\"Unknown\"]\n",
    "data[\"engine_size\"] = data[\"engine_size\"].replace({\",\":\"\"},regex=True)\n",
    "data[\"engine_size\"] = data[\"engine_size\"].astype(\"float\")"
   ]
  },
  {
   "cell_type": "code",
   "execution_count": 17,
   "id": "d3a40adc",
   "metadata": {
    "execution": {
     "iopub.execute_input": "2024-12-31T13:33:47.557776Z",
     "iopub.status.busy": "2024-12-31T13:33:47.557446Z",
     "iopub.status.idle": "2024-12-31T13:33:47.574171Z",
     "shell.execute_reply": "2024-12-31T13:33:47.573061Z"
    },
    "papermill": {
     "duration": 0.027679,
     "end_time": "2024-12-31T13:33:47.575947",
     "exception": false,
     "start_time": "2024-12-31T13:33:47.548268",
     "status": "completed"
    },
    "tags": []
   },
   "outputs": [
    {
     "data": {
      "text/html": [
       "<div>\n",
       "<style scoped>\n",
       "    .dataframe tbody tr th:only-of-type {\n",
       "        vertical-align: middle;\n",
       "    }\n",
       "\n",
       "    .dataframe tbody tr th {\n",
       "        vertical-align: top;\n",
       "    }\n",
       "\n",
       "    .dataframe thead th {\n",
       "        text-align: right;\n",
       "    }\n",
       "</style>\n",
       "<table border=\"1\" class=\"dataframe\">\n",
       "  <thead>\n",
       "    <tr style=\"text-align: right;\">\n",
       "      <th></th>\n",
       "      <th>model</th>\n",
       "      <th>year</th>\n",
       "      <th>price</th>\n",
       "      <th>transmission</th>\n",
       "      <th>mileage</th>\n",
       "      <th>road_tax</th>\n",
       "      <th>miles_per_gallon</th>\n",
       "      <th>fuel_type</th>\n",
       "      <th>engine_size</th>\n",
       "    </tr>\n",
       "  </thead>\n",
       "  <tbody>\n",
       "    <tr>\n",
       "      <th>10</th>\n",
       "      <td>C Class</td>\n",
       "      <td>2013.0</td>\n",
       "      <td>£9,995</td>\n",
       "      <td>Automatic</td>\n",
       "      <td>44,900</td>\n",
       "      <td>160.0</td>\n",
       "      <td>46.3</td>\n",
       "      <td>Petrol</td>\n",
       "      <td>1.600</td>\n",
       "    </tr>\n",
       "    <tr>\n",
       "      <th>11</th>\n",
       "      <td>C Class</td>\n",
       "      <td>2012.0</td>\n",
       "      <td>£6,995</td>\n",
       "      <td>Automatic</td>\n",
       "      <td>88,200</td>\n",
       "      <td>125.0</td>\n",
       "      <td>58.9</td>\n",
       "      <td>Diesel</td>\n",
       "      <td>2.100</td>\n",
       "    </tr>\n",
       "    <tr>\n",
       "      <th>12</th>\n",
       "      <td>C Class</td>\n",
       "      <td>2012.0</td>\n",
       "      <td>£7,495</td>\n",
       "      <td>Automatic</td>\n",
       "      <td>115,000</td>\n",
       "      <td>145.0</td>\n",
       "      <td>54.3</td>\n",
       "      <td>Diesel</td>\n",
       "      <td>2.100</td>\n",
       "    </tr>\n",
       "    <tr>\n",
       "      <th>13</th>\n",
       "      <td>C Class</td>\n",
       "      <td>2011.0</td>\n",
       "      <td>£8,995</td>\n",
       "      <td>Automatic</td>\n",
       "      <td>69,250</td>\n",
       "      <td>150.0</td>\n",
       "      <td>53.3</td>\n",
       "      <td>Diesel</td>\n",
       "      <td>2.100</td>\n",
       "    </tr>\n",
       "    <tr>\n",
       "      <th>14</th>\n",
       "      <td>C Class</td>\n",
       "      <td>2015.0</td>\n",
       "      <td>£14,995</td>\n",
       "      <td>Automatic</td>\n",
       "      <td>49,850</td>\n",
       "      <td>30.0</td>\n",
       "      <td>62.8</td>\n",
       "      <td>Diesel</td>\n",
       "      <td>2.100</td>\n",
       "    </tr>\n",
       "    <tr>\n",
       "      <th>...</th>\n",
       "      <td>...</td>\n",
       "      <td>...</td>\n",
       "      <td>...</td>\n",
       "      <td>...</td>\n",
       "      <td>...</td>\n",
       "      <td>...</td>\n",
       "      <td>...</td>\n",
       "      <td>...</td>\n",
       "      <td>...</td>\n",
       "    </tr>\n",
       "    <tr>\n",
       "      <th>4001</th>\n",
       "      <td>C Class</td>\n",
       "      <td>2017.0</td>\n",
       "      <td>£14,700</td>\n",
       "      <td>Manual</td>\n",
       "      <td>31,357</td>\n",
       "      <td>150.0</td>\n",
       "      <td>70.6</td>\n",
       "      <td>Diesel</td>\n",
       "      <td>1.598</td>\n",
       "    </tr>\n",
       "    <tr>\n",
       "      <th>4002</th>\n",
       "      <td>C Class</td>\n",
       "      <td>2018.0</td>\n",
       "      <td>£18,500</td>\n",
       "      <td>Automatic</td>\n",
       "      <td>28,248</td>\n",
       "      <td>150.0</td>\n",
       "      <td>64.2</td>\n",
       "      <td>Diesel</td>\n",
       "      <td>2.143</td>\n",
       "    </tr>\n",
       "    <tr>\n",
       "      <th>4003</th>\n",
       "      <td>C Class</td>\n",
       "      <td>2014.0</td>\n",
       "      <td>£11,900</td>\n",
       "      <td>Manual</td>\n",
       "      <td>48,055</td>\n",
       "      <td>20.0</td>\n",
       "      <td>65.7</td>\n",
       "      <td>Diesel</td>\n",
       "      <td>2.143</td>\n",
       "    </tr>\n",
       "    <tr>\n",
       "      <th>4004</th>\n",
       "      <td>C Class</td>\n",
       "      <td>2014.0</td>\n",
       "      <td>£11,300</td>\n",
       "      <td>Automatic</td>\n",
       "      <td>49,865</td>\n",
       "      <td>145.0</td>\n",
       "      <td>56.5</td>\n",
       "      <td>Diesel</td>\n",
       "      <td>2.143</td>\n",
       "    </tr>\n",
       "    <tr>\n",
       "      <th>4005</th>\n",
       "      <td>C Class</td>\n",
       "      <td>2014.0</td>\n",
       "      <td>£14,800</td>\n",
       "      <td>Automatic</td>\n",
       "      <td>55,445</td>\n",
       "      <td>30.0</td>\n",
       "      <td>64.2</td>\n",
       "      <td>Diesel</td>\n",
       "      <td>2.143</td>\n",
       "    </tr>\n",
       "  </tbody>\n",
       "</table>\n",
       "<p>3807 rows × 9 columns</p>\n",
       "</div>"
      ],
      "text/plain": [
       "         model    year     price transmission  mileage  road_tax  \\\n",
       "10     C Class  2013.0    £9,995    Automatic   44,900     160.0   \n",
       "11     C Class  2012.0    £6,995    Automatic   88,200     125.0   \n",
       "12     C Class  2012.0    £7,495    Automatic  115,000     145.0   \n",
       "13     C Class  2011.0    £8,995    Automatic   69,250     150.0   \n",
       "14     C Class  2015.0   £14,995    Automatic   49,850      30.0   \n",
       "...        ...     ...       ...          ...      ...       ...   \n",
       "4001   C Class  2017.0   £14,700       Manual   31,357     150.0   \n",
       "4002   C Class  2018.0   £18,500    Automatic   28,248     150.0   \n",
       "4003   C Class  2014.0   £11,900       Manual   48,055      20.0   \n",
       "4004   C Class  2014.0   £11,300    Automatic   49,865     145.0   \n",
       "4005   C Class  2014.0   £14,800    Automatic   55,445      30.0   \n",
       "\n",
       "      miles_per_gallon fuel_type  engine_size  \n",
       "10                46.3    Petrol        1.600  \n",
       "11                58.9    Diesel        2.100  \n",
       "12                54.3    Diesel        2.100  \n",
       "13                53.3    Diesel        2.100  \n",
       "14                62.8    Diesel        2.100  \n",
       "...                ...       ...          ...  \n",
       "4001              70.6    Diesel        1.598  \n",
       "4002              64.2    Diesel        2.143  \n",
       "4003              65.7    Diesel        2.143  \n",
       "4004              56.5    Diesel        2.143  \n",
       "4005              64.2    Diesel        2.143  \n",
       "\n",
       "[3807 rows x 9 columns]"
      ]
     },
     "execution_count": 17,
     "metadata": {},
     "output_type": "execute_result"
    }
   ],
   "source": [
    "data"
   ]
  },
  {
   "cell_type": "code",
   "execution_count": 18,
   "id": "57531c69",
   "metadata": {
    "execution": {
     "iopub.execute_input": "2024-12-31T13:33:47.594465Z",
     "iopub.status.busy": "2024-12-31T13:33:47.594122Z",
     "iopub.status.idle": "2024-12-31T13:33:47.605808Z",
     "shell.execute_reply": "2024-12-31T13:33:47.604588Z"
    },
    "papermill": {
     "duration": 0.022831,
     "end_time": "2024-12-31T13:33:47.607567",
     "exception": false,
     "start_time": "2024-12-31T13:33:47.584736",
     "status": "completed"
    },
    "tags": []
   },
   "outputs": [
    {
     "name": "stdout",
     "output_type": "stream",
     "text": [
      "<class 'pandas.core.frame.DataFrame'>\n",
      "Index: 3807 entries, 10 to 4005\n",
      "Data columns (total 9 columns):\n",
      " #   Column            Non-Null Count  Dtype  \n",
      "---  ------            --------------  -----  \n",
      " 0   model             3807 non-null   object \n",
      " 1   year              3806 non-null   float64\n",
      " 2   price             3807 non-null   object \n",
      " 3   transmission      3807 non-null   object \n",
      " 4   mileage           3807 non-null   object \n",
      " 5   road_tax          3807 non-null   float64\n",
      " 6   miles_per_gallon  3807 non-null   float64\n",
      " 7   fuel_type         3807 non-null   object \n",
      " 8   engine_size       3807 non-null   float64\n",
      "dtypes: float64(4), object(5)\n",
      "memory usage: 297.4+ KB\n"
     ]
    }
   ],
   "source": [
    "data.info()"
   ]
  },
  {
   "cell_type": "code",
   "execution_count": 19,
   "id": "6736ddce",
   "metadata": {
    "execution": {
     "iopub.execute_input": "2024-12-31T13:33:47.626286Z",
     "iopub.status.busy": "2024-12-31T13:33:47.625868Z",
     "iopub.status.idle": "2024-12-31T13:33:47.634574Z",
     "shell.execute_reply": "2024-12-31T13:33:47.633422Z"
    },
    "papermill": {
     "duration": 0.01998,
     "end_time": "2024-12-31T13:33:47.636393",
     "exception": false,
     "start_time": "2024-12-31T13:33:47.616413",
     "status": "completed"
    },
    "tags": []
   },
   "outputs": [
    {
     "name": "stderr",
     "output_type": "stream",
     "text": [
      "<ipython-input-19-f1116dacf2bb>:1: SettingWithCopyWarning: \n",
      "A value is trying to be set on a copy of a slice from a DataFrame\n",
      "\n",
      "See the caveats in the documentation: https://pandas.pydata.org/pandas-docs/stable/user_guide/indexing.html#returning-a-view-versus-a-copy\n",
      "  data.dropna(inplace=True)\n"
     ]
    }
   ],
   "source": [
    "data.dropna(inplace=True)"
   ]
  },
  {
   "cell_type": "code",
   "execution_count": 20,
   "id": "3c8173a8",
   "metadata": {
    "execution": {
     "iopub.execute_input": "2024-12-31T13:33:47.655489Z",
     "iopub.status.busy": "2024-12-31T13:33:47.655094Z",
     "iopub.status.idle": "2024-12-31T13:33:47.666921Z",
     "shell.execute_reply": "2024-12-31T13:33:47.665693Z"
    },
    "papermill": {
     "duration": 0.023295,
     "end_time": "2024-12-31T13:33:47.668671",
     "exception": false,
     "start_time": "2024-12-31T13:33:47.645376",
     "status": "completed"
    },
    "tags": []
   },
   "outputs": [
    {
     "name": "stdout",
     "output_type": "stream",
     "text": [
      "<class 'pandas.core.frame.DataFrame'>\n",
      "Index: 3806 entries, 10 to 4005\n",
      "Data columns (total 9 columns):\n",
      " #   Column            Non-Null Count  Dtype  \n",
      "---  ------            --------------  -----  \n",
      " 0   model             3806 non-null   object \n",
      " 1   year              3806 non-null   float64\n",
      " 2   price             3806 non-null   object \n",
      " 3   transmission      3806 non-null   object \n",
      " 4   mileage           3806 non-null   object \n",
      " 5   road_tax          3806 non-null   float64\n",
      " 6   miles_per_gallon  3806 non-null   float64\n",
      " 7   fuel_type         3806 non-null   object \n",
      " 8   engine_size       3806 non-null   float64\n",
      "dtypes: float64(4), object(5)\n",
      "memory usage: 297.3+ KB\n"
     ]
    }
   ],
   "source": [
    "data.info()"
   ]
  },
  {
   "cell_type": "code",
   "execution_count": 21,
   "id": "a283b05b",
   "metadata": {
    "execution": {
     "iopub.execute_input": "2024-12-31T13:33:47.687925Z",
     "iopub.status.busy": "2024-12-31T13:33:47.687530Z",
     "iopub.status.idle": "2024-12-31T13:33:47.707523Z",
     "shell.execute_reply": "2024-12-31T13:33:47.706189Z"
    },
    "papermill": {
     "duration": 0.031816,
     "end_time": "2024-12-31T13:33:47.709380",
     "exception": false,
     "start_time": "2024-12-31T13:33:47.677564",
     "status": "completed"
    },
    "tags": []
   },
   "outputs": [
    {
     "name": "stderr",
     "output_type": "stream",
     "text": [
      "<ipython-input-21-7e984e1b8c3f>:1: SettingWithCopyWarning: \n",
      "A value is trying to be set on a copy of a slice from a DataFrame.\n",
      "Try using .loc[row_indexer,col_indexer] = value instead\n",
      "\n",
      "See the caveats in the documentation: https://pandas.pydata.org/pandas-docs/stable/user_guide/indexing.html#returning-a-view-versus-a-copy\n",
      "  data[\"price\"] = data[\"price\"].replace({\"£\":\"\",\",\":\"\"},regex=True).astype(\"float\")\n"
     ]
    }
   ],
   "source": [
    "data[\"price\"] = data[\"price\"].replace({\"£\":\"\",\",\":\"\"},regex=True).astype(\"float\")"
   ]
  },
  {
   "cell_type": "code",
   "execution_count": 22,
   "id": "28425ea0",
   "metadata": {
    "execution": {
     "iopub.execute_input": "2024-12-31T13:33:47.732544Z",
     "iopub.status.busy": "2024-12-31T13:33:47.732200Z",
     "iopub.status.idle": "2024-12-31T13:33:47.746519Z",
     "shell.execute_reply": "2024-12-31T13:33:47.745329Z"
    },
    "papermill": {
     "duration": 0.028887,
     "end_time": "2024-12-31T13:33:47.748574",
     "exception": false,
     "start_time": "2024-12-31T13:33:47.719687",
     "status": "completed"
    },
    "tags": []
   },
   "outputs": [
    {
     "name": "stderr",
     "output_type": "stream",
     "text": [
      "<ipython-input-22-1010f01d2e37>:2: SettingWithCopyWarning: \n",
      "A value is trying to be set on a copy of a slice from a DataFrame.\n",
      "Try using .loc[row_indexer,col_indexer] = value instead\n",
      "\n",
      "See the caveats in the documentation: https://pandas.pydata.org/pandas-docs/stable/user_guide/indexing.html#returning-a-view-versus-a-copy\n",
      "  data[\"mileage\"]  = data[\"mileage\"].replace({\",\":\"\"},regex=True).astype(\"float\")\n"
     ]
    }
   ],
   "source": [
    "data = data[data[\"mileage\"] != \"Unknown\"]\n",
    "data[\"mileage\"]  = data[\"mileage\"].replace({\",\":\"\"},regex=True).astype(\"float\")"
   ]
  },
  {
   "cell_type": "code",
   "execution_count": 23,
   "id": "0430bac3",
   "metadata": {
    "execution": {
     "iopub.execute_input": "2024-12-31T13:33:47.767703Z",
     "iopub.status.busy": "2024-12-31T13:33:47.767371Z",
     "iopub.status.idle": "2024-12-31T13:33:47.779000Z",
     "shell.execute_reply": "2024-12-31T13:33:47.777795Z"
    },
    "papermill": {
     "duration": 0.022933,
     "end_time": "2024-12-31T13:33:47.780528",
     "exception": false,
     "start_time": "2024-12-31T13:33:47.757595",
     "status": "completed"
    },
    "tags": []
   },
   "outputs": [
    {
     "name": "stdout",
     "output_type": "stream",
     "text": [
      "<class 'pandas.core.frame.DataFrame'>\n",
      "Index: 3803 entries, 10 to 4005\n",
      "Data columns (total 9 columns):\n",
      " #   Column            Non-Null Count  Dtype  \n",
      "---  ------            --------------  -----  \n",
      " 0   model             3803 non-null   object \n",
      " 1   year              3803 non-null   float64\n",
      " 2   price             3803 non-null   float64\n",
      " 3   transmission      3803 non-null   object \n",
      " 4   mileage           3803 non-null   float64\n",
      " 5   road_tax          3803 non-null   float64\n",
      " 6   miles_per_gallon  3803 non-null   float64\n",
      " 7   fuel_type         3803 non-null   object \n",
      " 8   engine_size       3803 non-null   float64\n",
      "dtypes: float64(6), object(3)\n",
      "memory usage: 297.1+ KB\n"
     ]
    }
   ],
   "source": [
    "data.info()"
   ]
  },
  {
   "cell_type": "code",
   "execution_count": 24,
   "id": "9ca1db2e",
   "metadata": {
    "execution": {
     "iopub.execute_input": "2024-12-31T13:33:47.799543Z",
     "iopub.status.busy": "2024-12-31T13:33:47.799214Z",
     "iopub.status.idle": "2024-12-31T13:33:49.133755Z",
     "shell.execute_reply": "2024-12-31T13:33:49.132831Z"
    },
    "papermill": {
     "duration": 1.346068,
     "end_time": "2024-12-31T13:33:49.135644",
     "exception": false,
     "start_time": "2024-12-31T13:33:47.789576",
     "status": "completed"
    },
    "tags": []
   },
   "outputs": [],
   "source": [
    "from sklearn.model_selection import train_test_split\n",
    "\n",
    "X,Y = data.drop([\"price\"],axis=1),data[\"price\"]\n",
    "\n",
    "X_train, X_test, Y_train, Y_test = train_test_split(X,Y,test_size=0.2)"
   ]
  },
  {
   "cell_type": "markdown",
   "id": "a19ce82d",
   "metadata": {
    "papermill": {
     "duration": 0.008663,
     "end_time": "2024-12-31T13:33:49.153479",
     "exception": false,
     "start_time": "2024-12-31T13:33:49.144816",
     "status": "completed"
    },
    "tags": []
   },
   "source": [
    "## Data Visualization"
   ]
  },
  {
   "cell_type": "code",
   "execution_count": 25,
   "id": "df398d0e",
   "metadata": {
    "execution": {
     "iopub.execute_input": "2024-12-31T13:33:49.173083Z",
     "iopub.status.busy": "2024-12-31T13:33:49.172532Z",
     "iopub.status.idle": "2024-12-31T13:33:50.483313Z",
     "shell.execute_reply": "2024-12-31T13:33:50.481840Z"
    },
    "papermill": {
     "duration": 1.322558,
     "end_time": "2024-12-31T13:33:50.485123",
     "exception": false,
     "start_time": "2024-12-31T13:33:49.162565",
     "status": "completed"
    },
    "tags": []
   },
   "outputs": [
    {
     "data": {
      "text/plain": [
       "array([[<Axes: title={'center': 'year'}>,\n",
       "        <Axes: title={'center': 'mileage'}>],\n",
       "       [<Axes: title={'center': 'road_tax'}>,\n",
       "        <Axes: title={'center': 'miles_per_gallon'}>],\n",
       "       [<Axes: title={'center': 'engine_size'}>,\n",
       "        <Axes: title={'center': 'price'}>]], dtype=object)"
      ]
     },
     "execution_count": 25,
     "metadata": {},
     "output_type": "execute_result"
    },
    {
     "data": {
      "image/png": "[encoded data removed]",
      "text/plain": [
       "<Figure size 1500x700 with 6 Axes>"
      ]
     },
     "metadata": {},
     "output_type": "display_data"
    }
   ],
   "source": [
    "train_data = X_train.join(Y_train)\n",
    "train_data.hist(figsize=(15,7))"
   ]
  },
  {
   "cell_type": "code",
   "execution_count": 26,
   "id": "8d62215b",
   "metadata": {
    "execution": {
     "iopub.execute_input": "2024-12-31T13:33:50.507101Z",
     "iopub.status.busy": "2024-12-31T13:33:50.506700Z",
     "iopub.status.idle": "2024-12-31T13:33:50.515838Z",
     "shell.execute_reply": "2024-12-31T13:33:50.514941Z"
    },
    "papermill": {
     "duration": 0.021934,
     "end_time": "2024-12-31T13:33:50.517567",
     "exception": false,
     "start_time": "2024-12-31T13:33:50.495633",
     "status": "completed"
    },
    "tags": []
   },
   "outputs": [
    {
     "name": "stdout",
     "output_type": "stream",
     "text": [
      "Index(['model', 'year', 'price', 'transmission', 'mileage', 'road_tax',\n",
      "       'miles_per_gallon', 'fuel_type', 'engine_size'],\n",
      "      dtype='object')\n"
     ]
    },
    {
     "data": {
      "text/plain": [
       "Index(['year', 'price', 'mileage', 'road_tax', 'miles_per_gallon',\n",
       "       'engine_size'],\n",
       "      dtype='object')"
      ]
     },
     "execution_count": 26,
     "metadata": {},
     "output_type": "execute_result"
    }
   ],
   "source": [
    "print(data.columns)\n",
    "numerical_columns = data.select_dtypes(include=[\"float64\",\"int64\"]).columns\n",
    "numerical_columns"
   ]
  },
  {
   "cell_type": "markdown",
   "id": "d7baa49c",
   "metadata": {
    "papermill": {
     "duration": 0.010129,
     "end_time": "2024-12-31T13:33:50.538383",
     "exception": false,
     "start_time": "2024-12-31T13:33:50.528254",
     "status": "completed"
    },
    "tags": []
   },
   "source": [
    "model, transmission, and fuel_type are excluded"
   ]
  },
  {
   "cell_type": "code",
   "execution_count": 27,
   "id": "3df2c342",
   "metadata": {
    "execution": {
     "iopub.execute_input": "2024-12-31T13:33:50.560836Z",
     "iopub.status.busy": "2024-12-31T13:33:50.560475Z",
     "iopub.status.idle": "2024-12-31T13:33:51.418717Z",
     "shell.execute_reply": "2024-12-31T13:33:51.417693Z"
    },
    "papermill": {
     "duration": 0.871406,
     "end_time": "2024-12-31T13:33:51.420607",
     "exception": false,
     "start_time": "2024-12-31T13:33:50.549201",
     "status": "completed"
    },
    "tags": []
   },
   "outputs": [
    {
     "data": {
      "text/plain": [
       "<Axes: >"
      ]
     },
     "execution_count": 27,
     "metadata": {},
     "output_type": "execute_result"
    },
    {
     "data": {
      "image/png": "[encoded data removed]",
      "text/plain": [
       "<Figure size 1000x800 with 2 Axes>"
      ]
     },
     "metadata": {},
     "output_type": "display_data"
    }
   ],
   "source": [
    "import matplotlib.pyplot as plt\n",
    "import seaborn as sns\n",
    "\n",
    "plt.figure(figsize=(10,8))\n",
    "sns.heatmap(train_data[numerical_columns].corr(),annot=True,cmap=\"coolwarm\")"
   ]
  },
  {
   "cell_type": "markdown",
   "id": "dcf68a83",
   "metadata": {
    "papermill": {
     "duration": 0.011103,
     "end_time": "2024-12-31T13:33:51.443569",
     "exception": false,
     "start_time": "2024-12-31T13:33:51.432466",
     "status": "completed"
    },
    "tags": []
   },
   "source": [
    "price is fairly correlated with all the features, except engine_size"
   ]
  },
  {
   "cell_type": "markdown",
   "id": "8b5815ca",
   "metadata": {
    "papermill": {
     "duration": 0.011098,
     "end_time": "2024-12-31T13:33:51.466125",
     "exception": false,
     "start_time": "2024-12-31T13:33:51.455027",
     "status": "completed"
    },
    "tags": []
   },
   "source": [
    "## Data Preprocessing"
   ]
  },
  {
   "cell_type": "code",
   "execution_count": 28,
   "id": "5e9ef282",
   "metadata": {
    "execution": {
     "iopub.execute_input": "2024-12-31T13:33:51.490344Z",
     "iopub.status.busy": "2024-12-31T13:33:51.489803Z",
     "iopub.status.idle": "2024-12-31T13:33:51.508344Z",
     "shell.execute_reply": "2024-12-31T13:33:51.507145Z"
    },
    "papermill": {
     "duration": 0.032379,
     "end_time": "2024-12-31T13:33:51.509871",
     "exception": false,
     "start_time": "2024-12-31T13:33:51.477492",
     "status": "completed"
    },
    "tags": []
   },
   "outputs": [
    {
     "data": {
      "text/html": [
       "<div>\n",
       "<style scoped>\n",
       "    .dataframe tbody tr th:only-of-type {\n",
       "        vertical-align: middle;\n",
       "    }\n",
       "\n",
       "    .dataframe tbody tr th {\n",
       "        vertical-align: top;\n",
       "    }\n",
       "\n",
       "    .dataframe thead th {\n",
       "        text-align: right;\n",
       "    }\n",
       "</style>\n",
       "<table border=\"1\" class=\"dataframe\">\n",
       "  <thead>\n",
       "    <tr style=\"text-align: right;\">\n",
       "      <th></th>\n",
       "      <th>model</th>\n",
       "      <th>year</th>\n",
       "      <th>transmission</th>\n",
       "      <th>mileage</th>\n",
       "      <th>road_tax</th>\n",
       "      <th>miles_per_gallon</th>\n",
       "      <th>fuel_type</th>\n",
       "      <th>engine_size</th>\n",
       "      <th>price</th>\n",
       "    </tr>\n",
       "  </thead>\n",
       "  <tbody>\n",
       "    <tr>\n",
       "      <th>3641</th>\n",
       "      <td>C Class</td>\n",
       "      <td>2013.0</td>\n",
       "      <td>Manual</td>\n",
       "      <td>57000.0</td>\n",
       "      <td>160.0</td>\n",
       "      <td>52.3</td>\n",
       "      <td>Diesel</td>\n",
       "      <td>2.1</td>\n",
       "      <td>10999.0</td>\n",
       "    </tr>\n",
       "    <tr>\n",
       "      <th>1870</th>\n",
       "      <td>C Class</td>\n",
       "      <td>2019.0</td>\n",
       "      <td>Automatic</td>\n",
       "      <td>6224.0</td>\n",
       "      <td>145.0</td>\n",
       "      <td>44.1</td>\n",
       "      <td>Petrol</td>\n",
       "      <td>1.5</td>\n",
       "      <td>24950.0</td>\n",
       "    </tr>\n",
       "    <tr>\n",
       "      <th>386</th>\n",
       "      <td>C Class</td>\n",
       "      <td>2016.0</td>\n",
       "      <td>Automatic</td>\n",
       "      <td>44641.0</td>\n",
       "      <td>30.0</td>\n",
       "      <td>64.2</td>\n",
       "      <td>Diesel</td>\n",
       "      <td>2.1</td>\n",
       "      <td>17880.0</td>\n",
       "    </tr>\n",
       "    <tr>\n",
       "      <th>1801</th>\n",
       "      <td>C Class</td>\n",
       "      <td>2019.0</td>\n",
       "      <td>Semi-Auto</td>\n",
       "      <td>1200.0</td>\n",
       "      <td>145.0</td>\n",
       "      <td>28.5</td>\n",
       "      <td>Petrol</td>\n",
       "      <td>4.0</td>\n",
       "      <td>66890.0</td>\n",
       "    </tr>\n",
       "    <tr>\n",
       "      <th>3629</th>\n",
       "      <td>C Class</td>\n",
       "      <td>2019.0</td>\n",
       "      <td>Automatic</td>\n",
       "      <td>2326.0</td>\n",
       "      <td>145.0</td>\n",
       "      <td>46.3</td>\n",
       "      <td>Petrol</td>\n",
       "      <td>1.5</td>\n",
       "      <td>25590.0</td>\n",
       "    </tr>\n",
       "    <tr>\n",
       "      <th>...</th>\n",
       "      <td>...</td>\n",
       "      <td>...</td>\n",
       "      <td>...</td>\n",
       "      <td>...</td>\n",
       "      <td>...</td>\n",
       "      <td>...</td>\n",
       "      <td>...</td>\n",
       "      <td>...</td>\n",
       "      <td>...</td>\n",
       "    </tr>\n",
       "    <tr>\n",
       "      <th>3936</th>\n",
       "      <td>C Class</td>\n",
       "      <td>2017.0</td>\n",
       "      <td>Automatic</td>\n",
       "      <td>24265.0</td>\n",
       "      <td>125.0</td>\n",
       "      <td>58.9</td>\n",
       "      <td>Diesel</td>\n",
       "      <td>2100.0</td>\n",
       "      <td>23980.0</td>\n",
       "    </tr>\n",
       "    <tr>\n",
       "      <th>2563</th>\n",
       "      <td>C Class</td>\n",
       "      <td>2019.0</td>\n",
       "      <td>Semi-Auto</td>\n",
       "      <td>1000.0</td>\n",
       "      <td>145.0</td>\n",
       "      <td>64.2</td>\n",
       "      <td>Diesel</td>\n",
       "      <td>2.0</td>\n",
       "      <td>32959.0</td>\n",
       "    </tr>\n",
       "    <tr>\n",
       "      <th>3003</th>\n",
       "      <td>C Class</td>\n",
       "      <td>2016.0</td>\n",
       "      <td>Automatic</td>\n",
       "      <td>50000.0</td>\n",
       "      <td>30.0</td>\n",
       "      <td>65.7</td>\n",
       "      <td>Diesel</td>\n",
       "      <td>2143.0</td>\n",
       "      <td>19990.0</td>\n",
       "    </tr>\n",
       "    <tr>\n",
       "      <th>3897</th>\n",
       "      <td>C Class</td>\n",
       "      <td>2016.0</td>\n",
       "      <td>Automatic</td>\n",
       "      <td>26866.0</td>\n",
       "      <td>20.0</td>\n",
       "      <td>64.2</td>\n",
       "      <td>Diesel</td>\n",
       "      <td>2100.0</td>\n",
       "      <td>17800.0</td>\n",
       "    </tr>\n",
       "    <tr>\n",
       "      <th>3581</th>\n",
       "      <td>C Class</td>\n",
       "      <td>2020.0</td>\n",
       "      <td>Automatic</td>\n",
       "      <td>6000.0</td>\n",
       "      <td>145.0</td>\n",
       "      <td>64.2</td>\n",
       "      <td>Diesel</td>\n",
       "      <td>2.0</td>\n",
       "      <td>30990.0</td>\n",
       "    </tr>\n",
       "  </tbody>\n",
       "</table>\n",
       "<p>3042 rows × 9 columns</p>\n",
       "</div>"
      ],
      "text/plain": [
       "         model    year transmission  mileage  road_tax  miles_per_gallon  \\\n",
       "3641   C Class  2013.0       Manual  57000.0     160.0              52.3   \n",
       "1870   C Class  2019.0    Automatic   6224.0     145.0              44.1   \n",
       "386    C Class  2016.0    Automatic  44641.0      30.0              64.2   \n",
       "1801   C Class  2019.0    Semi-Auto   1200.0     145.0              28.5   \n",
       "3629   C Class  2019.0    Automatic   2326.0     145.0              46.3   \n",
       "...        ...     ...          ...      ...       ...               ...   \n",
       "3936   C Class  2017.0    Automatic  24265.0     125.0              58.9   \n",
       "2563   C Class  2019.0    Semi-Auto   1000.0     145.0              64.2   \n",
       "3003   C Class  2016.0    Automatic  50000.0      30.0              65.7   \n",
       "3897   C Class  2016.0    Automatic  26866.0      20.0              64.2   \n",
       "3581   C Class  2020.0    Automatic   6000.0     145.0              64.2   \n",
       "\n",
       "     fuel_type  engine_size    price  \n",
       "3641    Diesel          2.1  10999.0  \n",
       "1870    Petrol          1.5  24950.0  \n",
       "386     Diesel          2.1  17880.0  \n",
       "1801    Petrol          4.0  66890.0  \n",
       "3629    Petrol          1.5  25590.0  \n",
       "...        ...          ...      ...  \n",
       "3936    Diesel       2100.0  23980.0  \n",
       "2563    Diesel          2.0  32959.0  \n",
       "3003    Diesel       2143.0  19990.0  \n",
       "3897    Diesel       2100.0  17800.0  \n",
       "3581    Diesel          2.0  30990.0  \n",
       "\n",
       "[3042 rows x 9 columns]"
      ]
     },
     "execution_count": 28,
     "metadata": {},
     "output_type": "execute_result"
    }
   ],
   "source": [
    "train_data"
   ]
  },
  {
   "cell_type": "code",
   "execution_count": 29,
   "id": "fdff86dd",
   "metadata": {
    "execution": {
     "iopub.execute_input": "2024-12-31T13:33:51.534907Z",
     "iopub.status.busy": "2024-12-31T13:33:51.534575Z",
     "iopub.status.idle": "2024-12-31T13:33:51.540157Z",
     "shell.execute_reply": "2024-12-31T13:33:51.539062Z"
    },
    "papermill": {
     "duration": 0.019992,
     "end_time": "2024-12-31T13:33:51.541752",
     "exception": false,
     "start_time": "2024-12-31T13:33:51.521760",
     "status": "completed"
    },
    "tags": []
   },
   "outputs": [],
   "source": [
    "def preprocess(data):\n",
    "    data[\"mileage\"] = np.log(data[\"mileage\"]+1)\n",
    "    data[\"road_tax\"] = np.log(data[\"road_tax\"]+1)\n",
    "    data[\"miles_per_gallon\"] = np.log(data[\"mileage\"]+1)\n",
    "    data[\"engine_size\"] = np.log(data[\"engine_size\"]+1)\n",
    "\n",
    "    data[\"year\"] = data[\"year\"].max() - data[\"year\"]\n",
    "    data.rename(columns={\"year\":\"age\"},inplace=True)\n",
    "    data[\"age\"] = np.log(data[\"age\"]+1)"
   ]
  },
  {
   "cell_type": "code",
   "execution_count": 30,
   "id": "ec4976d0",
   "metadata": {
    "execution": {
     "iopub.execute_input": "2024-12-31T13:33:51.566905Z",
     "iopub.status.busy": "2024-12-31T13:33:51.566580Z",
     "iopub.status.idle": "2024-12-31T13:33:51.574711Z",
     "shell.execute_reply": "2024-12-31T13:33:51.573697Z"
    },
    "papermill": {
     "duration": 0.022502,
     "end_time": "2024-12-31T13:33:51.576409",
     "exception": false,
     "start_time": "2024-12-31T13:33:51.553907",
     "status": "completed"
    },
    "tags": []
   },
   "outputs": [],
   "source": [
    "preprocess(train_data)"
   ]
  },
  {
   "cell_type": "code",
   "execution_count": 31,
   "id": "0ece7e45",
   "metadata": {
    "execution": {
     "iopub.execute_input": "2024-12-31T13:33:51.601856Z",
     "iopub.status.busy": "2024-12-31T13:33:51.601496Z",
     "iopub.status.idle": "2024-12-31T13:33:51.858736Z",
     "shell.execute_reply": "2024-12-31T13:33:51.857596Z"
    },
    "papermill": {
     "duration": 0.272089,
     "end_time": "2024-12-31T13:33:51.860501",
     "exception": false,
     "start_time": "2024-12-31T13:33:51.588412",
     "status": "completed"
    },
    "tags": []
   },
   "outputs": [
    {
     "data": {
      "text/plain": [
       "<Axes: >"
      ]
     },
     "execution_count": 31,
     "metadata": {},
     "output_type": "execute_result"
    },
    {
     "data": {
      "image/png": "[encoded data removed]",
      "text/plain": [
       "<Figure size 640x480 with 1 Axes>"
      ]
     },
     "metadata": {},
     "output_type": "display_data"
    }
   ],
   "source": [
    "train_data.drop([\"price\"],axis=1).boxplot()"
   ]
  },
  {
   "cell_type": "markdown",
   "id": "0a32c530",
   "metadata": {
    "papermill": {
     "duration": 0.012245,
     "end_time": "2024-12-31T13:33:51.885809",
     "exception": false,
     "start_time": "2024-12-31T13:33:51.873564",
     "status": "completed"
    },
    "tags": []
   },
   "source": [
    "## Feature Engineering"
   ]
  },
  {
   "cell_type": "code",
   "execution_count": null,
   "id": "a1a44a7a",
   "metadata": {
    "papermill": {
     "duration": 0.011954,
     "end_time": "2024-12-31T13:33:51.910181",
     "exception": false,
     "start_time": "2024-12-31T13:33:51.898227",
     "status": "completed"
    },
    "tags": []
   },
   "outputs": [],
   "source": []
  }
 ],
 "metadata": {
  "kaggle": {
   "accelerator": "none",
   "dataSources": [
    {
     "datasetId": 750216,
     "sourceId": 1305559,
     "sourceType": "datasetVersion"
    }
   ],
   "dockerImageVersionId": 30822,
   "isGpuEnabled": false,
   "isInternetEnabled": true,
   "language": "python",
   "sourceType": "notebook"
  },
  "kernelspec": {
   "display_name": "Python 3",
   "language": "python",
   "name": "python3"
  },
  "language_info": {
   "codemirror_mode": {
    "name": "ipython",
    "version": 3
   },
   "file_extension": ".py",
   "mimetype": "text/x-python",
   "name": "python",
   "nbconvert_exporter": "python",
   "pygments_lexer": "ipython3",
   "version": "3.10.12"
  },
  "papermill": {
   "default_parameters": {},
   "duration": 8.195464,
   "end_time": "2024-12-31T13:33:52.642505",
   "environment_variables": {},
   "exception": null,
   "input_path": "__notebook__.ipynb",
   "output_path": "__notebook__.ipynb",
   "parameters": {},
   "start_time": "2024-12-31T13:33:44.447041",
   "version": "2.6.0"
  }
 },
 "nbformat": 4,
 "nbformat_minor": 5
}
